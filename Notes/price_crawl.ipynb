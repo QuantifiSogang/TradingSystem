{
 "cells": [
  {
   "metadata": {},
   "cell_type": "markdown",
   "source": [
    "### Price data crawl\n",
    "\n",
    "dependency : yfinance, tqdm, pandas, pandas-datareader"
   ],
   "id": "f842e8d5e342cd0c"
  },
  {
   "cell_type": "code",
   "id": "initial_id",
   "metadata": {
    "collapsed": true,
    "ExecuteTime": {
     "end_time": "2024-06-02T15:33:25.534480Z",
     "start_time": "2024-06-02T15:33:25.463327Z"
    }
   },
   "source": [
    "import yfinance as yf\n",
    "import pandas_datareader as pdr\n",
    "import pandas as pd\n",
    "\n",
    "sp500_tickers = pd.read_excel('../Data/S&P500.xlsx', index_col = 0)\n",
    "kospi_tickers = pd.read_excel('../Data/KOSPI.xlsx')"
   ],
   "outputs": [],
   "execution_count": 16
  },
  {
   "metadata": {},
   "cell_type": "markdown",
   "source": "### USA data",
   "id": "cc06d05b526cce46"
  },
  {
   "metadata": {
    "ExecuteTime": {
     "end_time": "2024-06-02T15:29:48.903960Z",
     "start_time": "2024-06-02T15:29:48.898705Z"
    }
   },
   "cell_type": "code",
   "source": "sp500_tickers['Symbol'].head()",
   "id": "f30024d2266dbd2e",
   "outputs": [
    {
     "data": {
      "text/plain": [
       "0     MMM\n",
       "1     AOS\n",
       "2     ABT\n",
       "3    ABBV\n",
       "4     ACN\n",
       "Name: Symbol, dtype: object"
      ]
     },
     "execution_count": 8,
     "metadata": {},
     "output_type": "execute_result"
    }
   ],
   "execution_count": 8
  },
  {
   "metadata": {
    "ExecuteTime": {
     "end_time": "2024-06-02T15:32:13.885897Z",
     "start_time": "2024-06-02T15:31:42.293655Z"
    }
   },
   "cell_type": "code",
   "source": [
    "start_date = '2000-01-01'\n",
    "end_date = pd.to_datetime('today')\n",
    "\n",
    "usa_data = yf.download(\n",
    "    sp500_tickers['Symbol'].tolist(),\n",
    "    start = start_date,\n",
    "    end = end_date\n",
    ")['Adj Close']\n",
    "usa_data.columns = sp500_tickers['Symbol'].tolist()"
   ],
   "id": "7c8584b3fec95961",
   "outputs": [
    {
     "name": "stderr",
     "output_type": "stream",
     "text": [
      "[*********************100%%**********************]  504 of 504 completed\n"
     ]
    }
   ],
   "execution_count": 11
  },
  {
   "metadata": {},
   "cell_type": "markdown",
   "source": [
    "### Korean data\n",
    "\n",
    "download tickers data from KRX information system"
   ],
   "id": "939b180354238060"
  },
  {
   "metadata": {
    "ExecuteTime": {
     "end_time": "2024-06-02T15:34:06.458255Z",
     "start_time": "2024-06-02T15:34:06.453418Z"
    }
   },
   "cell_type": "code",
   "source": "kospi_tickers = (kospi_tickers['ticker'] + 1000000).astype(str).str[1:]",
   "id": "b7fdaf796139f32f",
   "outputs": [],
   "execution_count": 21
  },
  {
   "metadata": {
    "ExecuteTime": {
     "end_time": "2024-06-02T15:40:48.444561Z",
     "start_time": "2024-06-02T15:36:30.817150Z"
    }
   },
   "cell_type": "code",
   "source": [
    "from tqdm import tqdm\n",
    "kor_data = pd.DataFrame()\n",
    "for i in tqdm(kospi_tickers) :\n",
    "    kor_data = pd.concat(\n",
    "        [\n",
    "            kor_data, \n",
    "            pdr.DataReader(i, 'naver', start = start_date, end = end_date)['Close']\n",
    "        ], \n",
    "        axis = 1\n",
    "    )\n",
    "\n",
    "kor_data.columns = kospi_tickers.to_list()\n",
    "kor_data = kor_data.astype(float)\n",
    "kor_data.index = pd.to_datetime(kor_data.index)"
   ],
   "id": "1dc1a945e0867aa1",
   "outputs": [
    {
     "name": "stderr",
     "output_type": "stream",
     "text": [
      "100%|██████████| 835/835 [04:17<00:00,  3.25it/s]  \n"
     ]
    }
   ],
   "execution_count": 26
  }
 ],
 "metadata": {
  "kernelspec": {
   "display_name": "Python 3",
   "language": "python",
   "name": "python3"
  },
  "language_info": {
   "codemirror_mode": {
    "name": "ipython",
    "version": 2
   },
   "file_extension": ".py",
   "mimetype": "text/x-python",
   "name": "python",
   "nbconvert_exporter": "python",
   "pygments_lexer": "ipython2",
   "version": "2.7.6"
  }
 },
 "nbformat": 4,
 "nbformat_minor": 5
}

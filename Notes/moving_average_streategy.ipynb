{
 "cells": [
  {
   "metadata": {},
   "cell_type": "markdown",
   "source": "## Moving Average",
   "id": "40faeeeae367e90f"
  },
  {
   "cell_type": "code",
   "id": "initial_id",
   "metadata": {
    "collapsed": true,
    "ExecuteTime": {
     "end_time": "2024-06-02T13:30:31.149611Z",
     "start_time": "2024-06-02T13:30:31.144095Z"
    }
   },
   "source": [
    "import numpy as np\n",
    "import pandas as pd\n",
    "import matplotlib.pyplot as plt\n",
    "import seaborn as sns\n",
    "import yfinance as yf"
   ],
   "outputs": [],
   "execution_count": 47
  },
  {
   "metadata": {
    "ExecuteTime": {
     "end_time": "2024-06-02T13:32:22.544951Z",
     "start_time": "2024-06-02T13:32:22.539162Z"
    }
   },
   "cell_type": "code",
   "source": [
    "def load_data(ticker, start, end):\n",
    "    data = yf.download(ticker, start=start, end=end)\n",
    "    data['Returns'] = data['Adj Close'].pct_change()\n",
    "    return data\n",
    "\n",
    "# Moving Average Strategy\n",
    "def moving_average_strategy(data, short_window, long_window):\n",
    "    data['Short_MA'] = data['Adj Close'].rolling(window=short_window, min_periods=1).mean()\n",
    "    data['Long_MA'] = data['Adj Close'].rolling(window=long_window, min_periods=1).mean()\n",
    "    data['Signal'] = 0\n",
    "\n",
    "    # Generate signal only on the crossover day\n",
    "    crossover_indices = np.where((data['Short_MA'].shift(1) <= data['Long_MA'].shift(1)) & (data['Short_MA'] > data['Long_MA']))\n",
    "    data.loc[data.index[crossover_indices], 'Signal'] = 1\n",
    "\n",
    "    data['Position'] = data['Signal'].shift()\n",
    "    return data\n",
    "\n",
    "def prepare_meta_labels(data, threshold=0.02):\n",
    "    data['Meta_Label'] = np.nan\n",
    "    signal_indices = data[data['Signal'] == 1].index\n",
    "\n",
    "    for i in range(len(signal_indices)):\n",
    "        if i + 1 < len(signal_indices):\n",
    "            next_day_index = signal_indices[i + 1]\n",
    "            data.loc[signal_indices[i], 'Meta_Label'] = 1 if data.loc[next_day_index, 'Returns'] > threshold else 0\n",
    "\n",
    "    return data.dropna(subset=['Meta_Label'])"
   ],
   "id": "494a334543a34a3c",
   "outputs": [],
   "execution_count": 96
  },
  {
   "metadata": {
    "ExecuteTime": {
     "end_time": "2024-06-02T13:33:15.587420Z",
     "start_time": "2024-06-02T13:33:14.819227Z"
    }
   },
   "cell_type": "code",
   "source": [
    "ticker = 'AAPL'\n",
    "start_date = '2000-01-01'\n",
    "end_date = pd.to_datetime('today')\n",
    "short_window = 5\n",
    "long_window = 20\n",
    "\n",
    "data = load_data(ticker, start_date, end_date)\n",
    "data = moving_average_strategy(data, short_window, long_window)"
   ],
   "id": "d8506a38ac173a84",
   "outputs": [
    {
     "name": "stderr",
     "output_type": "stream",
     "text": [
      "[*********************100%%**********************]  1 of 1 completed\n"
     ]
    }
   ],
   "execution_count": 116
  },
  {
   "metadata": {
    "ExecuteTime": {
     "end_time": "2024-06-02T13:33:15.593928Z",
     "start_time": "2024-06-02T13:33:15.588287Z"
    }
   },
   "cell_type": "code",
   "source": "data",
   "id": "3c4334198210a91c",
   "outputs": [
    {
     "data": {
      "text/plain": [
       "                  Open        High         Low       Close   Adj Close  \\\n",
       "Date                                                                     \n",
       "2000-01-03    0.936384    1.004464    0.907924    0.999442    0.844981   \n",
       "2000-01-04    0.966518    0.987723    0.903460    0.915179    0.773741   \n",
       "2000-01-05    0.926339    0.987165    0.919643    0.928571    0.785063   \n",
       "2000-01-06    0.947545    0.955357    0.848214    0.848214    0.717125   \n",
       "2000-01-07    0.861607    0.901786    0.852679    0.888393    0.751094   \n",
       "...                ...         ...         ...         ...         ...   \n",
       "2024-05-24  188.820007  190.580002  188.039993  189.979996  189.979996   \n",
       "2024-05-28  191.509995  193.000000  189.100006  189.990005  189.990005   \n",
       "2024-05-29  189.610001  192.250000  189.509995  190.289993  190.289993   \n",
       "2024-05-30  190.759995  192.179993  190.630005  191.289993  191.289993   \n",
       "2024-05-31  191.440002  192.570007  189.910004  192.250000  192.250000   \n",
       "\n",
       "               Volume   Returns    Short_MA     Long_MA  Signal  Position  \n",
       "Date                                                                       \n",
       "2000-01-03  535796800       NaN    0.844981    0.844981       0       NaN  \n",
       "2000-01-04  512377600 -0.084310    0.809361    0.809361       0       0.0  \n",
       "2000-01-05  778321600  0.014633    0.801261    0.801261       0       0.0  \n",
       "2000-01-06  767972800 -0.086538    0.780227    0.780227       0       0.0  \n",
       "2000-01-07  460734400  0.047369    0.774401    0.774401       0       0.0  \n",
       "...               ...       ...         ...         ...     ...       ...  \n",
       "2024-05-24   36294600  0.016588  190.229999  183.806573       0       0.0  \n",
       "2024-05-28   52280100  0.000053  190.020001  184.642824       0       0.0  \n",
       "2024-05-29   53068000  0.001579  189.607999  185.652359       0       0.0  \n",
       "2024-05-30   49947900  0.005255  189.685999  186.763325       0       0.0  \n",
       "2024-05-31   75115100  0.005019  190.759998  187.736044       0       0.0  \n",
       "\n",
       "[6142 rows x 11 columns]"
      ],
      "text/html": [
       "<div>\n",
       "<style scoped>\n",
       "    .dataframe tbody tr th:only-of-type {\n",
       "        vertical-align: middle;\n",
       "    }\n",
       "\n",
       "    .dataframe tbody tr th {\n",
       "        vertical-align: top;\n",
       "    }\n",
       "\n",
       "    .dataframe thead th {\n",
       "        text-align: right;\n",
       "    }\n",
       "</style>\n",
       "<table border=\"1\" class=\"dataframe\">\n",
       "  <thead>\n",
       "    <tr style=\"text-align: right;\">\n",
       "      <th></th>\n",
       "      <th>Open</th>\n",
       "      <th>High</th>\n",
       "      <th>Low</th>\n",
       "      <th>Close</th>\n",
       "      <th>Adj Close</th>\n",
       "      <th>Volume</th>\n",
       "      <th>Returns</th>\n",
       "      <th>Short_MA</th>\n",
       "      <th>Long_MA</th>\n",
       "      <th>Signal</th>\n",
       "      <th>Position</th>\n",
       "    </tr>\n",
       "    <tr>\n",
       "      <th>Date</th>\n",
       "      <th></th>\n",
       "      <th></th>\n",
       "      <th></th>\n",
       "      <th></th>\n",
       "      <th></th>\n",
       "      <th></th>\n",
       "      <th></th>\n",
       "      <th></th>\n",
       "      <th></th>\n",
       "      <th></th>\n",
       "      <th></th>\n",
       "    </tr>\n",
       "  </thead>\n",
       "  <tbody>\n",
       "    <tr>\n",
       "      <th>2000-01-03</th>\n",
       "      <td>0.936384</td>\n",
       "      <td>1.004464</td>\n",
       "      <td>0.907924</td>\n",
       "      <td>0.999442</td>\n",
       "      <td>0.844981</td>\n",
       "      <td>535796800</td>\n",
       "      <td>NaN</td>\n",
       "      <td>0.844981</td>\n",
       "      <td>0.844981</td>\n",
       "      <td>0</td>\n",
       "      <td>NaN</td>\n",
       "    </tr>\n",
       "    <tr>\n",
       "      <th>2000-01-04</th>\n",
       "      <td>0.966518</td>\n",
       "      <td>0.987723</td>\n",
       "      <td>0.903460</td>\n",
       "      <td>0.915179</td>\n",
       "      <td>0.773741</td>\n",
       "      <td>512377600</td>\n",
       "      <td>-0.084310</td>\n",
       "      <td>0.809361</td>\n",
       "      <td>0.809361</td>\n",
       "      <td>0</td>\n",
       "      <td>0.0</td>\n",
       "    </tr>\n",
       "    <tr>\n",
       "      <th>2000-01-05</th>\n",
       "      <td>0.926339</td>\n",
       "      <td>0.987165</td>\n",
       "      <td>0.919643</td>\n",
       "      <td>0.928571</td>\n",
       "      <td>0.785063</td>\n",
       "      <td>778321600</td>\n",
       "      <td>0.014633</td>\n",
       "      <td>0.801261</td>\n",
       "      <td>0.801261</td>\n",
       "      <td>0</td>\n",
       "      <td>0.0</td>\n",
       "    </tr>\n",
       "    <tr>\n",
       "      <th>2000-01-06</th>\n",
       "      <td>0.947545</td>\n",
       "      <td>0.955357</td>\n",
       "      <td>0.848214</td>\n",
       "      <td>0.848214</td>\n",
       "      <td>0.717125</td>\n",
       "      <td>767972800</td>\n",
       "      <td>-0.086538</td>\n",
       "      <td>0.780227</td>\n",
       "      <td>0.780227</td>\n",
       "      <td>0</td>\n",
       "      <td>0.0</td>\n",
       "    </tr>\n",
       "    <tr>\n",
       "      <th>2000-01-07</th>\n",
       "      <td>0.861607</td>\n",
       "      <td>0.901786</td>\n",
       "      <td>0.852679</td>\n",
       "      <td>0.888393</td>\n",
       "      <td>0.751094</td>\n",
       "      <td>460734400</td>\n",
       "      <td>0.047369</td>\n",
       "      <td>0.774401</td>\n",
       "      <td>0.774401</td>\n",
       "      <td>0</td>\n",
       "      <td>0.0</td>\n",
       "    </tr>\n",
       "    <tr>\n",
       "      <th>...</th>\n",
       "      <td>...</td>\n",
       "      <td>...</td>\n",
       "      <td>...</td>\n",
       "      <td>...</td>\n",
       "      <td>...</td>\n",
       "      <td>...</td>\n",
       "      <td>...</td>\n",
       "      <td>...</td>\n",
       "      <td>...</td>\n",
       "      <td>...</td>\n",
       "      <td>...</td>\n",
       "    </tr>\n",
       "    <tr>\n",
       "      <th>2024-05-24</th>\n",
       "      <td>188.820007</td>\n",
       "      <td>190.580002</td>\n",
       "      <td>188.039993</td>\n",
       "      <td>189.979996</td>\n",
       "      <td>189.979996</td>\n",
       "      <td>36294600</td>\n",
       "      <td>0.016588</td>\n",
       "      <td>190.229999</td>\n",
       "      <td>183.806573</td>\n",
       "      <td>0</td>\n",
       "      <td>0.0</td>\n",
       "    </tr>\n",
       "    <tr>\n",
       "      <th>2024-05-28</th>\n",
       "      <td>191.509995</td>\n",
       "      <td>193.000000</td>\n",
       "      <td>189.100006</td>\n",
       "      <td>189.990005</td>\n",
       "      <td>189.990005</td>\n",
       "      <td>52280100</td>\n",
       "      <td>0.000053</td>\n",
       "      <td>190.020001</td>\n",
       "      <td>184.642824</td>\n",
       "      <td>0</td>\n",
       "      <td>0.0</td>\n",
       "    </tr>\n",
       "    <tr>\n",
       "      <th>2024-05-29</th>\n",
       "      <td>189.610001</td>\n",
       "      <td>192.250000</td>\n",
       "      <td>189.509995</td>\n",
       "      <td>190.289993</td>\n",
       "      <td>190.289993</td>\n",
       "      <td>53068000</td>\n",
       "      <td>0.001579</td>\n",
       "      <td>189.607999</td>\n",
       "      <td>185.652359</td>\n",
       "      <td>0</td>\n",
       "      <td>0.0</td>\n",
       "    </tr>\n",
       "    <tr>\n",
       "      <th>2024-05-30</th>\n",
       "      <td>190.759995</td>\n",
       "      <td>192.179993</td>\n",
       "      <td>190.630005</td>\n",
       "      <td>191.289993</td>\n",
       "      <td>191.289993</td>\n",
       "      <td>49947900</td>\n",
       "      <td>0.005255</td>\n",
       "      <td>189.685999</td>\n",
       "      <td>186.763325</td>\n",
       "      <td>0</td>\n",
       "      <td>0.0</td>\n",
       "    </tr>\n",
       "    <tr>\n",
       "      <th>2024-05-31</th>\n",
       "      <td>191.440002</td>\n",
       "      <td>192.570007</td>\n",
       "      <td>189.910004</td>\n",
       "      <td>192.250000</td>\n",
       "      <td>192.250000</td>\n",
       "      <td>75115100</td>\n",
       "      <td>0.005019</td>\n",
       "      <td>190.759998</td>\n",
       "      <td>187.736044</td>\n",
       "      <td>0</td>\n",
       "      <td>0.0</td>\n",
       "    </tr>\n",
       "  </tbody>\n",
       "</table>\n",
       "<p>6142 rows × 11 columns</p>\n",
       "</div>"
      ]
     },
     "execution_count": 117,
     "metadata": {},
     "output_type": "execute_result"
    }
   ],
   "execution_count": 117
  },
  {
   "metadata": {
    "ExecuteTime": {
     "end_time": "2024-06-02T13:33:16.183130Z",
     "start_time": "2024-06-02T13:33:15.594489Z"
    }
   },
   "cell_type": "code",
   "source": [
    "features = ['^FVX','^TYX','^VIX','JPY=X','^GSPC','GC=F']\n",
    "exog = yf.download(\n",
    "    features,\n",
    "    start = start_date,\n",
    "    end = end_date\n",
    ")['Adj Close']"
   ],
   "id": "a0c7fae5a1e1e11c",
   "outputs": [
    {
     "name": "stderr",
     "output_type": "stream",
     "text": [
      "[*********************100%%**********************]  6 of 6 completed\n"
     ]
    }
   ],
   "execution_count": 118
  },
  {
   "metadata": {
    "ExecuteTime": {
     "end_time": "2024-06-02T13:33:16.188192Z",
     "start_time": "2024-06-02T13:33:16.184122Z"
    }
   },
   "cell_type": "code",
   "source": [
    "exog[['^FVX','^TYX','JPY=X','^GSPC','GC=F']] = exog[['^FVX','^TYX','JPY=X','^GSPC','GC=F']].pct_change()\n",
    "exog['^VIX'] = exog['^VIX'] * 0.01"
   ],
   "id": "87d26f82951fbb0e",
   "outputs": [
    {
     "name": "stderr",
     "output_type": "stream",
     "text": [
      "/var/folders/1q/pl9tj55n57s9jg28npxw61n80000gn/T/ipykernel_31071/365485493.py:1: FutureWarning: The default fill_method='pad' in DataFrame.pct_change is deprecated and will be removed in a future version. Either fill in any non-leading NA values prior to calling pct_change or specify 'fill_method=None' to not fill NA values.\n",
      "  exog[['^FVX','^TYX','JPY=X','^GSPC','GC=F']] = exog[['^FVX','^TYX','JPY=X','^GSPC','GC=F']].pct_change()\n"
     ]
    }
   ],
   "execution_count": 119
  },
  {
   "metadata": {
    "ExecuteTime": {
     "end_time": "2024-06-02T13:33:16.337241Z",
     "start_time": "2024-06-02T13:33:16.241907Z"
    }
   },
   "cell_type": "code",
   "source": [
    "from ta.volume import money_flow_index, ease_of_movement\n",
    "from ta.volatility import average_true_range, ulcer_index\n",
    "from ta.trend import adx, trix\n",
    "from ta.momentum import rsi, stoch\n",
    "def psycological_index(data, window = 12):\n",
    "    up_days = data['Close'].diff() > 0\n",
    "    sentiment = up_days.rolling(window = window).sum() / window\n",
    "    return sentiment\n",
    "\n",
    "data['money_flow_index'] = money_flow_index(\n",
    "    high = data['High'],\n",
    "    low = data['Low'],\n",
    "    close = data['Close'],\n",
    "    volume = data['Volume'],\n",
    "    window = 14\n",
    ") * 0.01 # normalizing\n",
    "data['ease_of_movement'] = ease_of_movement(\n",
    "    high = data['High'],\n",
    "    low = data['Low'],\n",
    "    volume = data['Volume'],\n",
    "    window = 14\n",
    ") * 0.01\n",
    "data['average_true_range'] = average_true_range(\n",
    "    high = data['High'],\n",
    "    low = data['Low'],\n",
    "    close = data['Close'],\n",
    "    window = 14\n",
    ").pct_change()\n",
    "data['ulcer_index'] = ulcer_index(\n",
    "    close = data['Close'],\n",
    "    window = 14\n",
    ") * 0.01\n",
    "data['adx'] = adx(\n",
    "    high = data['High'],\n",
    "    low = data['Low'],\n",
    "    close = data['Close'],\n",
    "    window = 14\n",
    ") * 0.01\n",
    "data['trix'] = trix(\n",
    "    close = data['Close'],\n",
    "    window = 14\n",
    ") * 0.01\n",
    "data['rsi'] = rsi(\n",
    "    close = data['Close'],\n",
    "    window = 14\n",
    ") * 0.01\n",
    "data['stoch'] = stoch(\n",
    "    high = data['High'],\n",
    "    low = data['Low'],\n",
    "    close = data['Close'],\n",
    "    window = 14\n",
    ") * 0.01\n",
    "data['psycological_index'] = psycological_index(\n",
    "    data, window = 14\n",
    ")"
   ],
   "id": "30effc5d0402cb49",
   "outputs": [],
   "execution_count": 120
  },
  {
   "metadata": {
    "ExecuteTime": {
     "end_time": "2024-06-02T13:33:16.985009Z",
     "start_time": "2024-06-02T13:33:16.980058Z"
    }
   },
   "cell_type": "code",
   "source": [
    "data['ret'] = data['Close'].pct_change()\n",
    "data['std'] = data['Close'].pct_change().rolling(window = 20).std()\n",
    "data['skew'] = data['Close'].pct_change().rolling(window = 20).skew()\n",
    "data['kurt'] = data['Close'].pct_change().rolling(window = 20).kurt()"
   ],
   "id": "5e91048c4bf2cac2",
   "outputs": [],
   "execution_count": 121
  },
  {
   "metadata": {
    "ExecuteTime": {
     "end_time": "2024-06-02T13:33:17.788639Z",
     "start_time": "2024-06-02T13:33:17.783750Z"
    }
   },
   "cell_type": "code",
   "source": [
    "data = pd.concat(\n",
    "    [data, exog], axis = 1\n",
    ")"
   ],
   "id": "441cef39dd7fefa6",
   "outputs": [],
   "execution_count": 122
  },
  {
   "metadata": {
    "ExecuteTime": {
     "end_time": "2024-06-02T13:33:18.083503Z",
     "start_time": "2024-06-02T13:33:18.077994Z"
    }
   },
   "cell_type": "code",
   "source": "data.dropna(inplace = True)",
   "id": "644c7418e369f8a9",
   "outputs": [],
   "execution_count": 123
  },
  {
   "metadata": {
    "ExecuteTime": {
     "end_time": "2024-06-02T13:33:45.996074Z",
     "start_time": "2024-06-02T13:33:45.982034Z"
    }
   },
   "cell_type": "code",
   "source": "data = prepare_meta_labels(data[data['Signal'] == 1], threshold = 0.01)",
   "id": "75a4aa2b36c75924",
   "outputs": [],
   "execution_count": 135
  },
  {
   "metadata": {
    "ExecuteTime": {
     "end_time": "2024-06-02T13:33:47.353943Z",
     "start_time": "2024-06-02T13:33:47.349379Z"
    }
   },
   "cell_type": "code",
   "source": [
    "X = data.drop(['Open','High','Low','Close','Adj Close','Volume','Short_MA','Long_MA','Signal','Position','Returns','Meta_Label'], axis = 1)\n",
    "y = data['Meta_Label']"
   ],
   "id": "3fabba5ebca3275b",
   "outputs": [],
   "execution_count": 137
  },
  {
   "metadata": {
    "ExecuteTime": {
     "end_time": "2024-06-02T13:33:47.706602Z",
     "start_time": "2024-06-02T13:33:47.701573Z"
    }
   },
   "cell_type": "code",
   "source": [
    "from sklearn.ensemble import RandomForestClassifier\n",
    "from sklearn.metrics import classification_report\n",
    "\n",
    "X_train = X[:'2019']\n",
    "X_test = X['2020':]\n",
    "y_train = y[:'2019']\n",
    "y_test = y['2020':]"
   ],
   "id": "ee3755d71ffd41be",
   "outputs": [],
   "execution_count": 138
  },
  {
   "metadata": {
    "ExecuteTime": {
     "end_time": "2024-06-02T13:33:48.728680Z",
     "start_time": "2024-06-02T13:33:48.121525Z"
    }
   },
   "cell_type": "code",
   "source": [
    "meta_model = RandomForestClassifier(\n",
    "    n_estimators = 1000, \n",
    "    criterion = 'entropy',\n",
    "    random_state = 42,\n",
    "    max_features = 3,\n",
    "    oob_score = True\n",
    ")\n",
    "meta_model.fit(X_train, y_train)"
   ],
   "id": "8dd6784a054e126b",
   "outputs": [
    {
     "data": {
      "text/plain": [
       "RandomForestClassifier(criterion='entropy', max_features=3, n_estimators=1000,\n",
       "                       oob_score=True, random_state=42)"
      ],
      "text/html": [
       "<style>#sk-container-id-8 {color: black;background-color: white;}#sk-container-id-8 pre{padding: 0;}#sk-container-id-8 div.sk-toggleable {background-color: white;}#sk-container-id-8 label.sk-toggleable__label {cursor: pointer;display: block;width: 100%;margin-bottom: 0;padding: 0.3em;box-sizing: border-box;text-align: center;}#sk-container-id-8 label.sk-toggleable__label-arrow:before {content: \"▸\";float: left;margin-right: 0.25em;color: #696969;}#sk-container-id-8 label.sk-toggleable__label-arrow:hover:before {color: black;}#sk-container-id-8 div.sk-estimator:hover label.sk-toggleable__label-arrow:before {color: black;}#sk-container-id-8 div.sk-toggleable__content {max-height: 0;max-width: 0;overflow: hidden;text-align: left;background-color: #f0f8ff;}#sk-container-id-8 div.sk-toggleable__content pre {margin: 0.2em;color: black;border-radius: 0.25em;background-color: #f0f8ff;}#sk-container-id-8 input.sk-toggleable__control:checked~div.sk-toggleable__content {max-height: 200px;max-width: 100%;overflow: auto;}#sk-container-id-8 input.sk-toggleable__control:checked~label.sk-toggleable__label-arrow:before {content: \"▾\";}#sk-container-id-8 div.sk-estimator input.sk-toggleable__control:checked~label.sk-toggleable__label {background-color: #d4ebff;}#sk-container-id-8 div.sk-label input.sk-toggleable__control:checked~label.sk-toggleable__label {background-color: #d4ebff;}#sk-container-id-8 input.sk-hidden--visually {border: 0;clip: rect(1px 1px 1px 1px);clip: rect(1px, 1px, 1px, 1px);height: 1px;margin: -1px;overflow: hidden;padding: 0;position: absolute;width: 1px;}#sk-container-id-8 div.sk-estimator {font-family: monospace;background-color: #f0f8ff;border: 1px dotted black;border-radius: 0.25em;box-sizing: border-box;margin-bottom: 0.5em;}#sk-container-id-8 div.sk-estimator:hover {background-color: #d4ebff;}#sk-container-id-8 div.sk-parallel-item::after {content: \"\";width: 100%;border-bottom: 1px solid gray;flex-grow: 1;}#sk-container-id-8 div.sk-label:hover label.sk-toggleable__label {background-color: #d4ebff;}#sk-container-id-8 div.sk-serial::before {content: \"\";position: absolute;border-left: 1px solid gray;box-sizing: border-box;top: 0;bottom: 0;left: 50%;z-index: 0;}#sk-container-id-8 div.sk-serial {display: flex;flex-direction: column;align-items: center;background-color: white;padding-right: 0.2em;padding-left: 0.2em;position: relative;}#sk-container-id-8 div.sk-item {position: relative;z-index: 1;}#sk-container-id-8 div.sk-parallel {display: flex;align-items: stretch;justify-content: center;background-color: white;position: relative;}#sk-container-id-8 div.sk-item::before, #sk-container-id-8 div.sk-parallel-item::before {content: \"\";position: absolute;border-left: 1px solid gray;box-sizing: border-box;top: 0;bottom: 0;left: 50%;z-index: -1;}#sk-container-id-8 div.sk-parallel-item {display: flex;flex-direction: column;z-index: 1;position: relative;background-color: white;}#sk-container-id-8 div.sk-parallel-item:first-child::after {align-self: flex-end;width: 50%;}#sk-container-id-8 div.sk-parallel-item:last-child::after {align-self: flex-start;width: 50%;}#sk-container-id-8 div.sk-parallel-item:only-child::after {width: 0;}#sk-container-id-8 div.sk-dashed-wrapped {border: 1px dashed gray;margin: 0 0.4em 0.5em 0.4em;box-sizing: border-box;padding-bottom: 0.4em;background-color: white;}#sk-container-id-8 div.sk-label label {font-family: monospace;font-weight: bold;display: inline-block;line-height: 1.2em;}#sk-container-id-8 div.sk-label-container {text-align: center;}#sk-container-id-8 div.sk-container {/* jupyter's `normalize.less` sets `[hidden] { display: none; }` but bootstrap.min.css set `[hidden] { display: none !important; }` so we also need the `!important` here to be able to override the default hidden behavior on the sphinx rendered scikit-learn.org. See: https://github.com/scikit-learn/scikit-learn/issues/21755 */display: inline-block !important;position: relative;}#sk-container-id-8 div.sk-text-repr-fallback {display: none;}</style><div id=\"sk-container-id-8\" class=\"sk-top-container\"><div class=\"sk-text-repr-fallback\"><pre>RandomForestClassifier(criterion=&#x27;entropy&#x27;, max_features=3, n_estimators=1000,\n",
       "                       oob_score=True, random_state=42)</pre><b>In a Jupyter environment, please rerun this cell to show the HTML representation or trust the notebook. <br />On GitHub, the HTML representation is unable to render, please try loading this page with nbviewer.org.</b></div><div class=\"sk-container\" hidden><div class=\"sk-item\"><div class=\"sk-estimator sk-toggleable\"><input class=\"sk-toggleable__control sk-hidden--visually\" id=\"sk-estimator-id-8\" type=\"checkbox\" checked><label for=\"sk-estimator-id-8\" class=\"sk-toggleable__label sk-toggleable__label-arrow\">RandomForestClassifier</label><div class=\"sk-toggleable__content\"><pre>RandomForestClassifier(criterion=&#x27;entropy&#x27;, max_features=3, n_estimators=1000,\n",
       "                       oob_score=True, random_state=42)</pre></div></div></div></div></div>"
      ]
     },
     "execution_count": 139,
     "metadata": {},
     "output_type": "execute_result"
    }
   ],
   "execution_count": 139
  },
  {
   "metadata": {
    "ExecuteTime": {
     "end_time": "2024-06-02T13:33:49.092665Z",
     "start_time": "2024-06-02T13:33:49.057675Z"
    }
   },
   "cell_type": "code",
   "source": "y_pred = meta_model.predict(X_test)",
   "id": "f551c5781000dc4c",
   "outputs": [],
   "execution_count": 140
  },
  {
   "metadata": {
    "ExecuteTime": {
     "end_time": "2024-06-02T13:33:50.811093Z",
     "start_time": "2024-06-02T13:33:50.804687Z"
    }
   },
   "cell_type": "code",
   "source": "print(classification_report(y_test, y_pred))",
   "id": "6c09cd0a7afea7d8",
   "outputs": [
    {
     "name": "stdout",
     "output_type": "stream",
     "text": [
      "              precision    recall  f1-score   support\n",
      "\n",
      "         0.0       0.50      0.45      0.48        11\n",
      "         1.0       0.60      0.64      0.62        14\n",
      "\n",
      "    accuracy                           0.56        25\n",
      "   macro avg       0.55      0.55      0.55        25\n",
      "weighted avg       0.56      0.56      0.56        25\n",
      "\n"
     ]
    }
   ],
   "execution_count": 143
  },
  {
   "metadata": {
    "ExecuteTime": {
     "end_time": "2024-06-02T13:34:44.138224Z",
     "start_time": "2024-06-02T13:34:44.024917Z"
    }
   },
   "cell_type": "code",
   "source": [
    "from sklearn.metrics import accuracy_score, classification_report, confusion_matrix, roc_curve, auc\n",
    "y_prob = meta_model.predict_proba(X_test)[:, 1]\n",
    "y_pred = meta_model.predict(X_test)\n",
    "fpr, tpr, thresholds = roc_curve(y_test, y_prob)\n",
    "roc_auc = auc(fpr, tpr)\n",
    "\n",
    "plt.figure(figsize = (6, 4))\n",
    "plt.plot(fpr, tpr, label = 'Random Forest (area = {:.2f})'.format(roc_auc), color = 'navy', alpha = 0.8, lw = 1)\n",
    "plt.plot([0, 1], [0, 1], color = 'lightgray', ls = ':', lw = 1)\n",
    "plt.xlabel('False Positive Rate')\n",
    "plt.ylabel('True Positive Rate')\n",
    "plt.title('ROC Curve with Random Forest')\n",
    "plt.grid(False)\n",
    "plt.legend()\n",
    "plt.show()"
   ],
   "id": "50d169e6b1ec25f7",
   "outputs": [
    {
     "data": {
      "text/plain": [
       "<Figure size 600x400 with 1 Axes>"
      ],
      "image/png": "[encoded data removed]"
     },
     "metadata": {},
     "output_type": "display_data"
    }
   ],
   "execution_count": 145
  },
  {
   "metadata": {
    "ExecuteTime": {
     "end_time": "2024-06-02T13:39:58.715461Z",
     "start_time": "2024-06-02T13:39:58.504698Z"
    }
   },
   "cell_type": "code",
   "source": "pd.DataFrame(meta_model.predict_proba(X_test), index = X_test.index).plot()",
   "id": "10d0dc5709cc7fa3",
   "outputs": [
    {
     "data": {
      "text/plain": [
       "<Axes: xlabel='Date'>"
      ]
     },
     "execution_count": 147,
     "metadata": {},
     "output_type": "execute_result"
    },
    {
     "data": {
      "text/plain": [
       "<Figure size 640x480 with 1 Axes>"
      ],
      "image/png": "[encoded data removed]"
     },
     "metadata": {},
     "output_type": "display_data"
    }
   ],
   "execution_count": 147
  }
 ],
 "metadata": {
  "kernelspec": {
   "display_name": "Python 3",
   "language": "python",
   "name": "python3"
  },
  "language_info": {
   "codemirror_mode": {
    "name": "ipython",
    "version": 2
   },
   "file_extension": ".py",
   "mimetype": "text/x-python",
   "name": "python",
   "nbconvert_exporter": "python",
   "pygments_lexer": "ipython2",
   "version": "2.7.6"
  }
 },
 "nbformat": 4,
 "nbformat_minor": 5
}

{
 "cells": [
  {
   "cell_type": "code",
   "execution_count": 1,
   "metadata": {},
   "outputs": [],
   "source": [
    "### 한국은행 통계시스템에서 데이터크롤링하여 전처리하는 프로세스\n",
    "\n",
    "import requests\n",
    "import numpy as np\n",
    "import pandas as pd\n",
    "\n",
    "## 금리는 class rate: 로 묶기\n",
    "## CD(91일)\n",
    "def get_CD_interest_rate(api_key, start_date, end_date):\n",
    "    \n",
    "    url = 'http://ecos.bok.or.kr/api/StatisticSearch/' + api_key + '/json/kr/1/100/[STAT_CODE]/D/YYYYMMDD/YYYYMMDD/[SUB_CODE]'\n",
    "    \n",
    "    url = url.replace(\"[STAT_CODE]\", \"817Y002\")\n",
    "    url = url.replace(\"YYYYMMDD/YYYYMMDD\", start_date + \"/\" + end_date)\n",
    "    url = url.replace(\"[SUB_CODE]\", \"010502000\")\n",
    "\n",
    "    response = requests.get(url)\n",
    "    result = response.json()\n",
    "\n",
    "    list_total_count=(int)(result['StatisticSearch']['list_total_count'])\n",
    "    list_count=(int)(list_total_count/100) + 1\n",
    "\n",
    "    rows=[]\n",
    "    for i in range(0,list_count):\n",
    "        \n",
    "        start = str(i * 100 + 1)\n",
    "        end = str((i + 1) * 100)\n",
    "        \n",
    "        url = \"http://ecos.bok.or.kr/api/StatisticSearch/\" + api_key + \"/json/kr/\" + start + \"/\" + end + \"/\" + \"[STAT_CODE]/D/YYYYMMDD/YYYYMMDD/[SUB_CODE]\"\n",
    "    \n",
    "        url = url.replace(\"[STAT_CODE]\", \"817Y002\")\n",
    "        url = url.replace(\"YYYYMMDD/YYYYMMDD\", start_date + \"/\" + end_date)\n",
    "        url = url.replace(\"[SUB_CODE]\", \"010502000\")\n",
    "\n",
    "        response = requests.get(url)\n",
    "        data = response.json()\n",
    "        \n",
    "        # API로부터 받은 데이터를 파싱하여 기준금리를 추출\n",
    "        rows += data['StatisticSearch']['row']\n",
    "    \n",
    "    CD_rates = pd.DataFrame(rows)\n",
    "\n",
    "    return CD_rates\n",
    "\n",
    "## 국고채3년\n",
    "def get_Korea_interest_rate(api_key, start_date, end_date):\n",
    "    \n",
    "    url = 'http://ecos.bok.or.kr/api/StatisticSearch/' + api_key + '/json/kr/1/100/[STAT_CODE]/D/YYYYMMDD/YYYYMMDD/[SUB_CODE]'\n",
    "    \n",
    "    url = url.replace(\"[STAT_CODE]\", \"817Y002\")\n",
    "    url = url.replace(\"YYYYMMDD/YYYYMMDD\", start_date + \"/\" + end_date)\n",
    "    url = url.replace(\"[SUB_CODE]\", \"010200000\")\n",
    "\n",
    "    response = requests.get(url)\n",
    "    result = response.json()\n",
    "\n",
    "    list_total_count=(int)(result['StatisticSearch']['list_total_count'])\n",
    "    list_count=(int)(list_total_count/100) + 1\n",
    "\n",
    "    rows=[]\n",
    "    for i in range(0,list_count):\n",
    "        \n",
    "        start = str(i * 100 + 1)\n",
    "        end = str((i + 1) * 100)\n",
    "        \n",
    "        url = \"http://ecos.bok.or.kr/api/StatisticSearch/\" + api_key + \"/json/kr/\" + start + \"/\" + end + \"/\" + \"[STAT_CODE]/D/YYYYMMDD/YYYYMMDD/[SUB_CODE]\"\n",
    "    \n",
    "        url = url.replace(\"[STAT_CODE]\", \"817Y002\")\n",
    "        url = url.replace(\"YYYYMMDD/YYYYMMDD\", start_date + \"/\" + end_date)\n",
    "        url = url.replace(\"[SUB_CODE]\", \"010200000\")\n",
    "\n",
    "        response = requests.get(url)\n",
    "        data = response.json()\n",
    "        \n",
    "        rows += data['StatisticSearch']['row']\n",
    "    \n",
    "    Korea_rates = pd.DataFrame(rows)\n",
    "\n",
    "    return Korea_rates\n",
    "\n",
    "## 회사채3년(AA-)\n",
    "def get_Company_interest_rate(api_key, start_date, end_date):\n",
    "    \n",
    "    url = 'http://ecos.bok.or.kr/api/StatisticSearch/' + api_key + '/json/kr/1/100/[STAT_CODE]/D/YYYYMMDD/YYYYMMDD/[SUB_CODE]'\n",
    "    \n",
    "    url = url.replace(\"[STAT_CODE]\", \"817Y002\")\n",
    "    url = url.replace(\"YYYYMMDD/YYYYMMDD\", start_date + \"/\" + end_date)\n",
    "    url = url.replace(\"[SUB_CODE]\", \"010300000\")\n",
    "\n",
    "    response = requests.get(url)\n",
    "    result = response.json()\n",
    "\n",
    "    list_total_count=(int)(result['StatisticSearch']['list_total_count'])\n",
    "    list_count=(int)(list_total_count/100) + 1\n",
    "\n",
    "    rows=[]\n",
    "    for i in range(0,list_count):\n",
    "        \n",
    "        start = str(i * 100 + 1)\n",
    "        end = str((i + 1) * 100)\n",
    "        \n",
    "        url = \"http://ecos.bok.or.kr/api/StatisticSearch/\" + api_key + \"/json/kr/\" + start + \"/\" + end + \"/\" + \"[STAT_CODE]/D/YYYYMMDD/YYYYMMDD/[SUB_CODE]\"\n",
    "    \n",
    "        url = url.replace(\"[STAT_CODE]\", \"817Y002\")\n",
    "        url = url.replace(\"YYYYMMDD/YYYYMMDD\", start_date + \"/\" + end_date)\n",
    "        url = url.replace(\"[SUB_CODE]\", \"010300000\")\n",
    "\n",
    "        response = requests.get(url)\n",
    "        data = response.json()\n",
    "        \n",
    "        rows += data['StatisticSearch']['row']\n",
    "    \n",
    "    Company_rates = pd.DataFrame(rows)\n",
    "\n",
    "    return Company_rates\n",
    "\n",
    "\n",
    "### 보안유의!!\n",
    "api_key = 'key'\n",
    "\n",
    "# 금리\n",
    "rate_start_date = input(\"조회할 금리의 시작날짜입력(YYYYMMDD):\")\n",
    "rate_end_date = input(\"조회할 금리의 마지막날짜입력(YYYYMMDD):\")\n",
    "CD_rates = get_CD_interest_rate(api_key, rate_start_date, rate_end_date)\n",
    "Korea_rates = get_Korea_interest_rate(api_key, rate_start_date, rate_end_date)\n",
    "Company_rates = get_Company_interest_rate(api_key, rate_start_date, rate_end_date)\n",
    "\n",
    "# Company_rates = {item['TIME']: item['DATA_VALUE'] for item in data['StatisticSearch']['row']}\n",
    "\n",
    "# 위 방식으로 함수를 만들어 크롤링하면 됨!\n",
    "# 환율 -- 달러, 엔화, 위안화, 유로화\n",
    "# 주가지수 -- 코스피, 코스닥, 다우존스, 나스닥, 닛케이, 홍콩항셍\n",
    "# 원자재 -- 원유(WTI), 금, ...\n",
    "\n"
   ]
  },
  {
   "cell_type": "code",
   "execution_count": 3,
   "metadata": {},
   "outputs": [
    {
     "data": {
      "application/vnd.plotly.v1+json": {
       "config": {
        "plotlyServerURL": "https://plot.ly"
       },
       "data": [
        {
         "delta": {
          "reference": 3.83,
          "relative": true,
          "valueformat": ".2%"
         },
         "domain": {
          "column": 0,
          "row": 0
         },
         "mode": "number+delta",
         "number": {
          "suffix": " "
         },
         "title": {
          "text": "CD(91일)<br><span style='font-size:0.8em;color:gray'>2023-12-31 / 변동: 0.0</span>"
         },
         "type": "indicator",
         "value": 3.83
        },
        {
         "delta": {
          "reference": 3.154,
          "relative": true,
          "valueformat": ".2%"
         },
         "domain": {
          "column": 1,
          "row": 0
         },
         "mode": "number+delta",
         "number": {
          "suffix": " "
         },
         "title": {
          "text": "국고채(3년)<br><span style='font-size:0.8em;color:gray'>2023-12-31 / 변동: 0.0</span>"
         },
         "type": "indicator",
         "value": 3.154
        },
        {
         "delta": {
          "reference": 3.898,
          "relative": true,
          "valueformat": ".2%"
         },
         "domain": {
          "column": 0,
          "row": 1
         },
         "mode": "number+delta",
         "number": {
          "suffix": " "
         },
         "title": {
          "text": "회사채(3년, AA-)<br><span style='font-size:0.8em;color:gray'>2023-12-31 / 변동: 0.0</span>"
         },
         "type": "indicator",
         "value": 3.898
        }
       ],
       "layout": {
        "grid": {
         "columns": 2,
         "pattern": "independent",
         "rows": 2
        },
        "height": 600,
        "margin": {
         "b": 30,
         "l": 20,
         "r": 20,
         "t": 30
        },
        "template": {
         "data": {
          "bar": [
           {
            "error_x": {
             "color": "#2a3f5f"
            },
            "error_y": {
             "color": "#2a3f5f"
            },
            "marker": {
             "line": {
              "color": "#E5ECF6",
              "width": 0.5
             },
             "pattern": {
              "fillmode": "overlay",
              "size": 10,
              "solidity": 0.2
             }
            },
            "type": "bar"
           }
          ],
          "barpolar": [
           {
            "marker": {
             "line": {
              "color": "#E5ECF6",
              "width": 0.5
             },
             "pattern": {
              "fillmode": "overlay",
              "size": 10,
              "solidity": 0.2
             }
            },
            "type": "barpolar"
           }
          ],
          "carpet": [
           {
            "aaxis": {
             "endlinecolor": "#2a3f5f",
             "gridcolor": "white",
             "linecolor": "white",
             "minorgridcolor": "white",
             "startlinecolor": "#2a3f5f"
            },
            "baxis": {
             "endlinecolor": "#2a3f5f",
             "gridcolor": "white",
             "linecolor": "white",
             "minorgridcolor": "white",
             "startlinecolor": "#2a3f5f"
            },
            "type": "carpet"
           }
          ],
          "choropleth": [
           {
            "colorbar": {
             "outlinewidth": 0,
             "ticks": ""
            },
            "type": "choropleth"
           }
          ],
          "contour": [
           {
            "colorbar": {
             "outlinewidth": 0,
             "ticks": ""
            },
            "colorscale": [
             [
              0,
              "#0d0887"
             ],
             [
              0.1111111111111111,
              "#46039f"
             ],
             [
              0.2222222222222222,
              "#7201a8"
             ],
             [
              0.3333333333333333,
              "#9c179e"
             ],
             [
              0.4444444444444444,
              "#bd3786"
             ],
             [
              0.5555555555555556,
              "#d8576b"
             ],
             [
              0.6666666666666666,
              "#ed7953"
             ],
             [
              0.7777777777777778,
              "#fb9f3a"
             ],
             [
              0.8888888888888888,
              "#fdca26"
             ],
             [
              1,
              "#f0f921"
             ]
            ],
            "type": "contour"
           }
          ],
          "contourcarpet": [
           {
            "colorbar": {
             "outlinewidth": 0,
             "ticks": ""
            },
            "type": "contourcarpet"
           }
          ],
          "heatmap": [
           {
            "colorbar": {
             "outlinewidth": 0,
             "ticks": ""
            },
            "colorscale": [
             [
              0,
              "#0d0887"
             ],
             [
              0.1111111111111111,
              "#46039f"
             ],
             [
              0.2222222222222222,
              "#7201a8"
             ],
             [
              0.3333333333333333,
              "#9c179e"
             ],
             [
              0.4444444444444444,
              "#bd3786"
             ],
             [
              0.5555555555555556,
              "#d8576b"
             ],
             [
              0.6666666666666666,
              "#ed7953"
             ],
             [
              0.7777777777777778,
              "#fb9f3a"
             ],
             [
              0.8888888888888888,
              "#fdca26"
             ],
             [
              1,
              "#f0f921"
             ]
            ],
            "type": "heatmap"
           }
          ],
          "heatmapgl": [
           {
            "colorbar": {
             "outlinewidth": 0,
             "ticks": ""
            },
            "colorscale": [
             [
              0,
              "#0d0887"
             ],
             [
              0.1111111111111111,
              "#46039f"
             ],
             [
              0.2222222222222222,
              "#7201a8"
             ],
             [
              0.3333333333333333,
              "#9c179e"
             ],
             [
              0.4444444444444444,
              "#bd3786"
             ],
             [
              0.5555555555555556,
              "#d8576b"
             ],
             [
              0.6666666666666666,
              "#ed7953"
             ],
             [
              0.7777777777777778,
              "#fb9f3a"
             ],
             [
              0.8888888888888888,
              "#fdca26"
             ],
             [
              1,
              "#f0f921"
             ]
            ],
            "type": "heatmapgl"
           }
          ],
          "histogram": [
           {
            "marker": {
             "pattern": {
              "fillmode": "overlay",
              "size": 10,
              "solidity": 0.2
             }
            },
            "type": "histogram"
           }
          ],
          "histogram2d": [
           {
            "colorbar": {
             "outlinewidth": 0,
             "ticks": ""
            },
            "colorscale": [
             [
              0,
              "#0d0887"
             ],
             [
              0.1111111111111111,
              "#46039f"
             ],
             [
              0.2222222222222222,
              "#7201a8"
             ],
             [
              0.3333333333333333,
              "#9c179e"
             ],
             [
              0.4444444444444444,
              "#bd3786"
             ],
             [
              0.5555555555555556,
              "#d8576b"
             ],
             [
              0.6666666666666666,
              "#ed7953"
             ],
             [
              0.7777777777777778,
              "#fb9f3a"
             ],
             [
              0.8888888888888888,
              "#fdca26"
             ],
             [
              1,
              "#f0f921"
             ]
            ],
            "type": "histogram2d"
           }
          ],
          "histogram2dcontour": [
           {
            "colorbar": {
             "outlinewidth": 0,
             "ticks": ""
            },
            "colorscale": [
             [
              0,
              "#0d0887"
             ],
             [
              0.1111111111111111,
              "#46039f"
             ],
             [
              0.2222222222222222,
              "#7201a8"
             ],
             [
              0.3333333333333333,
              "#9c179e"
             ],
             [
              0.4444444444444444,
              "#bd3786"
             ],
             [
              0.5555555555555556,
              "#d8576b"
             ],
             [
              0.6666666666666666,
              "#ed7953"
             ],
             [
              0.7777777777777778,
              "#fb9f3a"
             ],
             [
              0.8888888888888888,
              "#fdca26"
             ],
             [
              1,
              "#f0f921"
             ]
            ],
            "type": "histogram2dcontour"
           }
          ],
          "mesh3d": [
           {
            "colorbar": {
             "outlinewidth": 0,
             "ticks": ""
            },
            "type": "mesh3d"
           }
          ],
          "parcoords": [
           {
            "line": {
             "colorbar": {
              "outlinewidth": 0,
              "ticks": ""
             }
            },
            "type": "parcoords"
           }
          ],
          "pie": [
           {
            "automargin": true,
            "type": "pie"
           }
          ],
          "scatter": [
           {
            "fillpattern": {
             "fillmode": "overlay",
             "size": 10,
             "solidity": 0.2
            },
            "type": "scatter"
           }
          ],
          "scatter3d": [
           {
            "line": {
             "colorbar": {
              "outlinewidth": 0,
              "ticks": ""
             }
            },
            "marker": {
             "colorbar": {
              "outlinewidth": 0,
              "ticks": ""
             }
            },
            "type": "scatter3d"
           }
          ],
          "scattercarpet": [
           {
            "marker": {
             "colorbar": {
              "outlinewidth": 0,
              "ticks": ""
             }
            },
            "type": "scattercarpet"
           }
          ],
          "scattergeo": [
           {
            "marker": {
             "colorbar": {
              "outlinewidth": 0,
              "ticks": ""
             }
            },
            "type": "scattergeo"
           }
          ],
          "scattergl": [
           {
            "marker": {
             "colorbar": {
              "outlinewidth": 0,
              "ticks": ""
             }
            },
            "type": "scattergl"
           }
          ],
          "scattermapbox": [
           {
            "marker": {
             "colorbar": {
              "outlinewidth": 0,
              "ticks": ""
             }
            },
            "type": "scattermapbox"
           }
          ],
          "scatterpolar": [
           {
            "marker": {
             "colorbar": {
              "outlinewidth": 0,
              "ticks": ""
             }
            },
            "type": "scatterpolar"
           }
          ],
          "scatterpolargl": [
           {
            "marker": {
             "colorbar": {
              "outlinewidth": 0,
              "ticks": ""
             }
            },
            "type": "scatterpolargl"
           }
          ],
          "scatterternary": [
           {
            "marker": {
             "colorbar": {
              "outlinewidth": 0,
              "ticks": ""
             }
            },
            "type": "scatterternary"
           }
          ],
          "surface": [
           {
            "colorbar": {
             "outlinewidth": 0,
             "ticks": ""
            },
            "colorscale": [
             [
              0,
              "#0d0887"
             ],
             [
              0.1111111111111111,
              "#46039f"
             ],
             [
              0.2222222222222222,
              "#7201a8"
             ],
             [
              0.3333333333333333,
              "#9c179e"
             ],
             [
              0.4444444444444444,
              "#bd3786"
             ],
             [
              0.5555555555555556,
              "#d8576b"
             ],
             [
              0.6666666666666666,
              "#ed7953"
             ],
             [
              0.7777777777777778,
              "#fb9f3a"
             ],
             [
              0.8888888888888888,
              "#fdca26"
             ],
             [
              1,
              "#f0f921"
             ]
            ],
            "type": "surface"
           }
          ],
          "table": [
           {
            "cells": {
             "fill": {
              "color": "#EBF0F8"
             },
             "line": {
              "color": "white"
             }
            },
            "header": {
             "fill": {
              "color": "#C8D4E3"
             },
             "line": {
              "color": "white"
             }
            },
            "type": "table"
           }
          ]
         },
         "layout": {
          "annotationdefaults": {
           "arrowcolor": "#2a3f5f",
           "arrowhead": 0,
           "arrowwidth": 1
          },
          "autotypenumbers": "strict",
          "coloraxis": {
           "colorbar": {
            "outlinewidth": 0,
            "ticks": ""
           }
          },
          "colorscale": {
           "diverging": [
            [
             0,
             "#8e0152"
            ],
            [
             0.1,
             "#c51b7d"
            ],
            [
             0.2,
             "#de77ae"
            ],
            [
             0.3,
             "#f1b6da"
            ],
            [
             0.4,
             "#fde0ef"
            ],
            [
             0.5,
             "#f7f7f7"
            ],
            [
             0.6,
             "#e6f5d0"
            ],
            [
             0.7,
             "#b8e186"
            ],
            [
             0.8,
             "#7fbc41"
            ],
            [
             0.9,
             "#4d9221"
            ],
            [
             1,
             "#276419"
            ]
           ],
           "sequential": [
            [
             0,
             "#0d0887"
            ],
            [
             0.1111111111111111,
             "#46039f"
            ],
            [
             0.2222222222222222,
             "#7201a8"
            ],
            [
             0.3333333333333333,
             "#9c179e"
            ],
            [
             0.4444444444444444,
             "#bd3786"
            ],
            [
             0.5555555555555556,
             "#d8576b"
            ],
            [
             0.6666666666666666,
             "#ed7953"
            ],
            [
             0.7777777777777778,
             "#fb9f3a"
            ],
            [
             0.8888888888888888,
             "#fdca26"
            ],
            [
             1,
             "#f0f921"
            ]
           ],
           "sequentialminus": [
            [
             0,
             "#0d0887"
            ],
            [
             0.1111111111111111,
             "#46039f"
            ],
            [
             0.2222222222222222,
             "#7201a8"
            ],
            [
             0.3333333333333333,
             "#9c179e"
            ],
            [
             0.4444444444444444,
             "#bd3786"
            ],
            [
             0.5555555555555556,
             "#d8576b"
            ],
            [
             0.6666666666666666,
             "#ed7953"
            ],
            [
             0.7777777777777778,
             "#fb9f3a"
            ],
            [
             0.8888888888888888,
             "#fdca26"
            ],
            [
             1,
             "#f0f921"
            ]
           ]
          },
          "colorway": [
           "#636efa",
           "#EF553B",
           "#00cc96",
           "#ab63fa",
           "#FFA15A",
           "#19d3f3",
           "#FF6692",
           "#B6E880",
           "#FF97FF",
           "#FECB52"
          ],
          "font": {
           "color": "#2a3f5f"
          },
          "geo": {
           "bgcolor": "white",
           "lakecolor": "white",
           "landcolor": "#E5ECF6",
           "showlakes": true,
           "showland": true,
           "subunitcolor": "white"
          },
          "hoverlabel": {
           "align": "left"
          },
          "hovermode": "closest",
          "mapbox": {
           "style": "light"
          },
          "paper_bgcolor": "white",
          "plot_bgcolor": "#E5ECF6",
          "polar": {
           "angularaxis": {
            "gridcolor": "white",
            "linecolor": "white",
            "ticks": ""
           },
           "bgcolor": "#E5ECF6",
           "radialaxis": {
            "gridcolor": "white",
            "linecolor": "white",
            "ticks": ""
           }
          },
          "scene": {
           "xaxis": {
            "backgroundcolor": "#E5ECF6",
            "gridcolor": "white",
            "gridwidth": 2,
            "linecolor": "white",
            "showbackground": true,
            "ticks": "",
            "zerolinecolor": "white"
           },
           "yaxis": {
            "backgroundcolor": "#E5ECF6",
            "gridcolor": "white",
            "gridwidth": 2,
            "linecolor": "white",
            "showbackground": true,
            "ticks": "",
            "zerolinecolor": "white"
           },
           "zaxis": {
            "backgroundcolor": "#E5ECF6",
            "gridcolor": "white",
            "gridwidth": 2,
            "linecolor": "white",
            "showbackground": true,
            "ticks": "",
            "zerolinecolor": "white"
           }
          },
          "shapedefaults": {
           "line": {
            "color": "#2a3f5f"
           }
          },
          "ternary": {
           "aaxis": {
            "gridcolor": "white",
            "linecolor": "white",
            "ticks": ""
           },
           "baxis": {
            "gridcolor": "white",
            "linecolor": "white",
            "ticks": ""
           },
           "bgcolor": "#E5ECF6",
           "caxis": {
            "gridcolor": "white",
            "linecolor": "white",
            "ticks": ""
           }
          },
          "title": {
           "x": 0.05
          },
          "xaxis": {
           "automargin": true,
           "gridcolor": "white",
           "linecolor": "white",
           "ticks": "",
           "title": {
            "standoff": 15
           },
           "zerolinecolor": "white",
           "zerolinewidth": 2
          },
          "yaxis": {
           "automargin": true,
           "gridcolor": "white",
           "linecolor": "white",
           "ticks": "",
           "title": {
            "standoff": 15
           },
           "zerolinecolor": "white",
           "zerolinewidth": 2
          }
         }
        }
       }
      }
     },
     "metadata": {},
     "output_type": "display_data"
    }
   ],
   "source": [
    "### 거시경제지표를 대시보드형태로 만드는 프로세스\n",
    "\n",
    "import plotly.graph_objects as go\n",
    "import pandas as pd\n",
    "\n",
    "## 금리\n",
    "labels = [CD_rates.iloc[0,3], Korea_rates.iloc[0,3], Company_rates.iloc[0,3]]\n",
    "values = [float(CD_rates.iloc[-1,-1]), float(Korea_rates.iloc[-1,-1]), float(Company_rates.iloc[-1,-1])]\n",
    "\n",
    "# 조회한 마지막날짜를 출력하도록 설계 --> datetime.today로 오늘날짜를 출력하도록 할수도 있음\n",
    "dates = [rate_end_date[0:4] + '-' + rate_end_date[4:6] + '-' + rate_end_date[6:]] * 3\n",
    "changes = [(float(CD_rates.iloc[-1,-1]) - float(CD_rates.iloc[-2,-1]))/float(CD_rates.iloc[-2,-1]),\n",
    "            (float(Korea_rates.iloc[-1,-1]) - float(Korea_rates.iloc[-2,-1]))/float(Korea_rates.iloc[-2,-1]),\n",
    "            (float(Company_rates.iloc[-1,-1]) - float(Company_rates.iloc[-2,-1]))/float(Company_rates.iloc[-2,-1])]\n",
    "\n",
    "# 플롯 생성\n",
    "fig = go.Figure()\n",
    "\n",
    "# 각 지표를 별도의 텍스트 박스로 추가\n",
    "for i, (label, value, date, change) in enumerate(zip(labels, values, dates, changes)):\n",
    "    fig.add_trace(go.Indicator(\n",
    "        mode=\"number+delta\",\n",
    "        value=value,\n",
    "        number={'suffix': \" \"},\n",
    "        delta={'reference': value, 'relative': True, 'valueformat': '.2%'},\n",
    "        title={'text': f\"{label}<br><span style='font-size:0.8em;color:gray'>{date} / 변동: {change}</span>\"},\n",
    "        domain={'row': i // 2, 'column': i % 2}\n",
    "    ))\n",
    "\n",
    "# 그리드 레이아웃 설정\n",
    "fig.update_layout(\n",
    "    grid={'rows': 2, 'columns': 2, 'pattern': \"independent\"},\n",
    "    height=600,\n",
    "    margin=dict(l=20, r=20, t=30, b=30)\n",
    ")\n",
    "\n",
    "fig.show()\n",
    "\n",
    "## 환율\n",
    "## 주가지수\n",
    "## 원자재\n",
    "\n"
   ]
  },
  {
   "cell_type": "code",
   "execution_count": 4,
   "metadata": {},
   "outputs": [
    {
     "data": {
      "image/png": "[encoded data removed]",
      "text/plain": [
       "<Figure size 2000x1000 with 1 Axes>"
      ]
     },
     "metadata": {},
     "output_type": "display_data"
    },
    {
     "data": {
      "image/png": "[encoded data removed]",
      "text/plain": [
       "<Figure size 2000x1000 with 1 Axes>"
      ]
     },
     "metadata": {},
     "output_type": "display_data"
    },
    {
     "data": {
      "image/png": "[encoded data removed]",
      "text/plain": [
       "<Figure size 2000x1000 with 1 Axes>"
      ]
     },
     "metadata": {},
     "output_type": "display_data"
    }
   ],
   "source": [
    "### 해당 경제지표 DataFrame의 라인차트를 출력해주는 함수\n",
    "\n",
    "import matplotlib.pyplot as plt\n",
    "import pandas as pd\n",
    "\n",
    "import warnings\n",
    "warnings.filterwarnings(action='ignore')\n",
    "\n",
    "def print_linechart(df):\n",
    "\n",
    "    df_ = df.iloc[:,-2:]\n",
    "    df_.columns = ['기간', df.iloc[0,3]]  # 연도와 수치 dataframe화\n",
    "    df_.set_index('기간', inplace=True) # 1열 TIME을 index화\n",
    "    df_.index = pd.to_datetime(df_.index, format='%Y%m%d')\n",
    "    df_[df.iloc[0,3]] = df_[df.iloc[0,3]].astype(float)\n",
    "    \n",
    "\n",
    "    df_.plot(xlim=[df_.index[0], df_.index[-1]], ylim=(0,10), figsize=(20,10))\n",
    "    plt.show()\n",
    "\n",
    "    return \n",
    "\n",
    "print_linechart(CD_rates)\n",
    "print_linechart(Korea_rates)\n",
    "print_linechart(Company_rates)"
   ]
  },
  {
   "cell_type": "code",
   "execution_count": 5,
   "metadata": {},
   "outputs": [
    {
     "data": {
      "application/vnd.plotly.v1+json": {
       "config": {
        "plotlyServerURL": "https://plot.ly"
       },
       "data": [
        {
         "branchvalues": "total",
         "customdata": [
          [
           10645246840000,
           "기타금융"
          ],
          [
           9618066464400,
           "기타금융"
          ],
          [
           4127309291000,
           "서비스업"
          ],
          [
           4171900472200,
           "기타금융"
          ],
          [
           12429674701000,
           "서비스업"
          ],
          [
           4054678651500,
           "의약품"
          ],
          [
           4207435395150,
           "운수장비"
          ],
          [
           9399380201750,
           "통신업"
          ],
          [
           21263653890000,
           "전기전자"
          ],
          [
           4087254688300,
           "화학"
          ],
          [
           5674102795600,
           "기계"
          ],
          [
           12632414406800,
           "운수장비"
          ],
          [
           8180409642000,
           "유통업"
          ],
          [
           16086580116200,
           "전기전자"
          ],
          [
           10234753826000,
           "철강금속"
          ],
          [
           10569209136000,
           "화학"
          ],
          [
           17950695117200,
           "기타금융"
          ],
          [
           21025568603000,
           "운수장비"
          ],
          [
           4339417597200,
           "서비스업"
          ],
          [
           7028188650000,
           "화학"
          ],
          [
           8059680769500,
           "서비스업"
          ],
          [
           5578501230600,
           "전기전자"
          ],
          [
           4370479723610,
           "통신업"
          ],
          [
           4636033805600,
           "화학"
          ],
          [
           9246090127500,
           "전기전자"
          ],
          [
           5546281544100,
           "운수장비"
          ],
          [
           3908587351500,
           "건설업"
          ],
          [
           32119481331200,
           "기타금융"
          ],
          [
           24196177665000,
           "기타금융"
          ],
          [
           467433973665000,
           "전기전자"
          ],
          [
           4356125801400,
           "기타금융"
          ],
          [
           5026111732500,
           "화학"
          ],
          [
           4576426194500,
           "기타금융"
          ],
          [
           5027856678000,
           "화학"
          ],
          [
           5556212276250,
           "기타금융"
          ],
          [
           11340914798400,
           "통신업"
          ],
          [
           4691093295040,
           "증권"
          ],
          [
           33955348845000,
           "철강금속"
          ],
          [
           6852409375000,
           "서비스업"
          ],
          [
           90207000000000,
           "전기전자"
          ],
          [
           7370280000000,
           "보험"
          ],
          [
           12504252480000,
           "서비스업"
          ],
          [
           5005516845000,
           "음식료품"
          ],
          [
           4276937409250,
           "철강금속"
          ],
          [
           12662729936500,
           "기타금융"
          ],
          [
           11916687961200,
           "기타금융"
          ],
          [
           5115000000000,
           "전기전자"
          ],
          [
           15941632650500,
           "보험"
          ],
          [
           4793856141700,
           "기타금융"
          ],
          [
           11689927980900,
           "기타제조업"
          ],
          [
           3934255035200,
           "기타금융"
          ],
          [
           3681060549600,
           "운수장비"
          ],
          [
           11323564313600,
           "전기전자"
          ],
          [
           18600000000000,
           "보험"
          ],
          [
           9134475000000,
           "서비스업"
          ],
          [
           5325000000000,
           "전기전자"
          ],
          [
           13802713023600,
           "기계"
          ],
          [
           12640272676130,
           "전기가스업"
          ],
          [
           53076192150000,
           "전기전자"
          ],
          [
           10972579957440,
           "은행"
          ],
          [
           7835762323200,
           "화학"
          ],
          [
           4855760000000,
           "기타금융"
          ],
          [
           5406475275800,
           "서비스업"
          ],
          [
           6705363189600,
           "전기전자"
          ],
          [
           6225822152550,
           "서비스업"
          ],
          [
           9885276271000,
           "화학"
          ],
          [
           5312393331500,
           "운수장비"
          ],
          [
           41424006270700,
           "의약품"
          ],
          [
           12409601322960,
           "운수창고업"
          ],
          [
           29948144733600,
           "서비스업"
          ],
          [
           51621091081500,
           "운수장비"
          ],
          [
           134898838234500,
           "전기전자"
          ],
          [
           55586894000000,
           "의약품"
          ],
          [
           11303030946900,
           "은행"
          ],
          [
           16287497735600,
           "기타금융"
          ],
          [
           4829884840000,
           "서비스업"
          ],
          [
           5347831854500,
           "기타금융"
          ],
          [
           4159152197300,
           "증권"
          ],
          [
           45792834721700,
           "운수장비"
          ],
          [
           4718894544000,
           "기계"
          ],
          [
           10986710000000,
           "운수장비"
          ],
          [
           5606613573600,
           "의약품"
          ],
          [
           4135218141600,
           "화학"
          ],
          [
           28413418057500,
           "화학"
          ],
          [
           4085352021600,
           "전기전자"
          ],
          [
           30153246405000,
           "전기전자"
          ],
          [
           4939200000000,
           "서비스업"
          ],
          [
           5586765611900,
           "화학"
          ],
          [
           4165966209600,
           "기타금융"
          ],
          [
           9956664217500,
           "운수장비"
          ],
          [
           20772903568650,
           "서비스업"
          ],
          [
           5555388540900,
           "화학"
          ],
          [
           4563568350000,
           "의약품"
          ],
          [
           8914400000000,
           "운수장비"
          ],
          [
           26667616050000,
           "유통업"
          ],
          [
           10723021274440,
           "기타금융"
          ],
          [
           7053750000000,
           "운수창고업"
          ],
          [
           11318715449820,
           "기계"
          ],
          [
           5739273447500,
           "전기전자"
          ],
          [
           8064032475900,
           "운수창고업"
          ],
          [
           4356125801400,
           "기타금융"
          ],
          [
           5005516845000,
           "음식료품"
          ],
          [
           7370280000000,
           "보험"
          ],
          [
           4171900472200,
           "기타금융"
          ],
          [
           9618066464400,
           "기타금융"
          ],
          [
           5347831854500,
           "기타금융"
          ],
          [
           9134475000000,
           "서비스업"
          ],
          [
           9246090127500,
           "전기전자"
          ],
          [
           12632414406800,
           "운수장비"
          ],
          [
           12409601322960,
           "운수창고업"
          ],
          [
           32119481331200,
           "기타금융"
          ],
          [
           9399380201750,
           "통신업"
          ],
          [
           11689927980900,
           "기타제조업"
          ],
          [
           12662729936500,
           "기타금융"
          ],
          [
           5325000000000,
           "전기전자"
          ],
          [
           7028188650000,
           "화학"
          ],
          [
           90207000000000,
           "전기전자"
          ],
          [
           4370479723610,
           "통신업"
          ],
          [
           5739273447500,
           "전기전자"
          ],
          [
           16086580116200,
           "전기전자"
          ],
          [
           28413418057500,
           "화학"
          ],
          [
           4855760000000,
           "기타금융"
          ],
          [
           5115000000000,
           "전기전자"
          ],
          [
           29948144733600,
           "서비스업"
          ],
          [
           4159152197300,
           "증권"
          ],
          [
           33955348845000,
           "철강금속"
          ],
          [
           7835762323200,
           "화학"
          ],
          [
           11916687961200,
           "기타금융"
          ],
          [
           4135218141600,
           "화학"
          ],
          [
           4563568350000,
           "의약품"
          ],
          [
           6852409375000,
           "서비스업"
          ],
          [
           10645246840000,
           "기타금융"
          ],
          [
           4085352021600,
           "전기전자"
          ],
          [
           10569209136000,
           "화학"
          ],
          [
           11340914798400,
           "통신업"
          ],
          [
           134898838234500,
           "전기전자"
          ],
          [
           10234753826000,
           "철강금속"
          ],
          [
           5555388540900,
           "화학"
          ],
          [
           4087254688300,
           "화학"
          ],
          [
           45792834721700,
           "운수장비"
          ],
          [
           10972579957440,
           "은행"
          ],
          [
           5406475275800,
           "서비스업"
          ],
          [
           8064032475900,
           "운수창고업"
          ],
          [
           4718894544000,
           "기계"
          ],
          [
           5674102795600,
           "기계"
          ],
          [
           11318715449820,
           "기계"
          ],
          [
           5026111732500,
           "화학"
          ],
          [
           5556212276250,
           "기타금융"
          ],
          [
           16287497735600,
           "기타금융"
          ],
          [
           4691093295040,
           "증권"
          ],
          [
           4939200000000,
           "서비스업"
          ],
          [
           30153246405000,
           "전기전자"
          ],
          [
           26667616050000,
           "유통업"
          ],
          [
           55586894000000,
           "의약품"
          ],
          [
           18600000000000,
           "보험"
          ],
          [
           12504252480000,
           "서비스업"
          ],
          [
           11323564313600,
           "전기전자"
          ],
          [
           467433973665000,
           "전기전자"
          ],
          [
           53076192150000,
           "전기전자"
          ],
          [
           8914400000000,
           "운수장비"
          ],
          [
           4576426194500,
           "기타금융"
          ],
          [
           15941632650500,
           "보험"
          ],
          [
           41424006270700,
           "의약품"
          ],
          [
           24196177665000,
           "기타금융"
          ],
          [
           9885276271000,
           "화학"
          ],
          [
           6705363189600,
           "전기전자"
          ],
          [
           4829884840000,
           "서비스업"
          ],
          [
           5578501230600,
           "전기전자"
          ],
          [
           10723021274440,
           "기타금융"
          ],
          [
           5606613573600,
           "의약품"
          ],
          [
           20772903568650,
           "서비스업"
          ],
          [
           11303030946900,
           "은행"
          ],
          [
           4793856141700,
           "기타금융"
          ],
          [
           4636033805600,
           "화학"
          ],
          [
           4339417597200,
           "서비스업"
          ],
          [
           12429674701000,
           "서비스업"
          ],
          [
           6225822152550,
           "서비스업"
          ],
          [
           8180409642000,
           "유통업"
          ],
          [
           21263653890000,
           "전기전자"
          ],
          [
           17950695117200,
           "기타금융"
          ],
          [
           8059680769500,
           "서비스업"
          ],
          [
           3934255035200,
           "기타금융"
          ],
          [
           12640272676130,
           "전기가스업"
          ],
          [
           5586765611900,
           "화학"
          ],
          [
           5312393331500,
           "운수장비"
          ],
          [
           13802713023600,
           "기계"
          ],
          [
           4054678651500,
           "의약품"
          ],
          [
           4165966209600,
           "기타금융"
          ],
          [
           5027856678000,
           "화학"
          ],
          [
           10986710000000,
           "운수장비"
          ],
          [
           9956664217500,
           "운수장비"
          ],
          [
           3908587351500,
           "건설업"
          ],
          [
           7053750000000,
           "운수창고업"
          ],
          [
           4207435395150,
           "운수장비"
          ],
          [
           21025568603000,
           "운수장비"
          ],
          [
           4127309291000,
           "서비스업"
          ],
          [
           4276937409250,
           "철강금속"
          ],
          [
           51621091081500,
           "운수장비"
          ],
          [
           5546281544100,
           "운수장비"
          ],
          [
           3681060549600,
           "운수장비"
          ],
          [
           3908587351500,
           "건설업"
          ],
          [
           35514425813020,
           "기계"
          ],
          [
           187877938310890,
           "기타금융"
          ],
          [
           11689927980900,
           "기타제조업"
          ],
          [
           41911912650500,
           "보험"
          ],
          [
           129569649784300,
           "서비스업"
          ],
          [
           179676853850850,
           "운수장비"
          ],
          [
           27527383798860,
           "운수창고업"
          ],
          [
           34848025692000,
           "유통업"
          ],
          [
           22275610904340,
           "은행"
          ],
          [
           5005516845000,
           "음식료품"
          ],
          [
           111235760845800,
           "의약품"
          ],
          [
           12640272676130,
           "전기가스업"
          ],
          [
           866237628791100,
           "전기전자"
          ],
          [
           8850245492340,
           "증권"
          ],
          [
           48467040080250,
           "철강금속"
          ],
          [
           25110774723760,
           "통신업"
          ],
          [
           97786483636500,
           "화학"
          ]
         ],
         "domain": {
          "x": [
           0,
           1
          ],
          "y": [
           0,
           1
          ]
         },
         "hovertemplate": "labels=%{label}<br>Marcap=%{customdata[0]}<br>parent=%{parent}<br>id=%{id}<br>Sector=%{customdata[1]}<extra></extra>",
         "ids": [
          "기타금융/SK스퀘어/-4.7%",
          "기타금융/HD한국조선해양/-0.29%",
          "서비스업/현대오토에버/+1.48%",
          "기타금융/GS/+0.9%",
          "서비스업/크래프톤/-0.96%",
          "의약품/한미약품/+0.8%",
          "운수장비/현대로템/+2.25%",
          "통신업/KT/+2.09%",
          "전기전자/포스코퓨처엠/-0.54%",
          "화학/금호석유/+4.09%",
          "기계/두산밥캣/+1.07%",
          "운수장비/HD현대중공업/-0.84%",
          "유통업/포스코인터내셔널/+0.98%",
          "전기전자/LG전자/+0.72%",
          "철강금속/고려아연/-0.91%",
          "화학/SK이노베이션/-0.36%",
          "기타금융/하나금융지주/-3.46%",
          "운수장비/현대모비스/-1.1%",
          "서비스업/코웨이/-1.84%",
          "화학/LG생활건강/-1.21%",
          "서비스업/하이브/+0.36%",
          "전기전자/엘앤에프/-1.79%",
          "통신업/LG유플러스/+0.6%",
          "화학/코스모신소재/+1.13%",
          "전기전자/HD현대일렉트릭/-0.19%",
          "운수장비/현대차2우B/+0.71%",
          "건설업/현대건설/+0.86%",
          "기타금융/KB금융/-2.45%",
          "기타금융/신한지주/-0.52%",
          "전기전자/삼성전자/-0.13%",
          "기타금융/CJ/-0.8%",
          "화학/롯데케미칼/+5.19%",
          "기타금융/삼성카드/-0.25%",
          "화학/한화솔루션/+1.04%",
          "기타금융/맥쿼리인프라/-0.23%",
          "통신업/SK텔레콤/+0.38%",
          "증권/미래에셋증권/-0.88%",
          "철강금속/POSCO홀딩스/+0.63%",
          "서비스업/SK바이오팜/-1.24%",
          "전기전자/LG에너지솔루션/+1.05%",
          "보험/DB손해보험/+5.36%",
          "서비스업/삼성에스디에스/+3.59%",
          "음식료품/CJ제일제당/-5.0%",
          "철강금속/현대제철/+1.58%",
          "기타금융/LG/-0.62%",
          "기타금융/SK/+0.62%",
          "전기전자/LS ELECTRIC/-1.56%",
          "보험/삼성화재/+0.3%",
          "기타금융/카카오페이/+0.14%",
          "기타제조업/KT&G/-0.44%",
          "기타금융/한국금융지주/+1.0%",
          "운수장비/현대차우/+1.05%",
          "전기전자/삼성전기/-0.2%",
          "보험/삼성생명/-0.11%",
          "서비스업/HD현대마린솔루션/+6.26%",
          "전기전자/LG디스플레이/+0.57%",
          "기계/한미반도체/+1.5%",
          "전기가스업/한국전력/+1.6%",
          "전기전자/삼성전자우/-0.77%",
          "은행/기업은행/-1.15%",
          "화학/S-Oil/-0.29%",
          "기타금융/LS/+0.33%",
          "서비스업/넷마블/-3.38%",
          "전기전자/에코프로머티/+0.1%",
          "서비스업/포스코DX/+0.99%",
          "화학/아모레퍼시픽/+0.12%",
          "운수장비/한국항공우주/+0.37%",
          "의약품/셀트리온/+0.05%",
          "운수창고업/HMM/-2.96%",
          "서비스업/NAVER/+0.05%",
          "운수장비/현대차/+0.61%",
          "전기전자/SK하이닉스/+0.82%",
          "의약품/삼성바이오로직스/+0.0%",
          "은행/카카오뱅크/-0.63%",
          "기타금융/메리츠금융지주/+1.43%",
          "서비스업/엔씨소프트/+4.76%",
          "기타금융/HD현대/-0.59%",
          "증권/NH투자증권/-0.24%",
          "운수장비/기아/-0.35%",
          "기계/두산로보틱스/-0.27%",
          "운수장비/한화에어로스페이스/-2.03%",
          "의약품/유한양행/-0.99%",
          "화학/SKC/-1.27%",
          "화학/LG화학/+2.94%",
          "전기전자/SK아이이테크놀로지/+0.35%",
          "전기전자/삼성SDI/+1.27%",
          "서비스업/삼성E&A/-1.18%",
          "화학/한국타이어앤테크놀로지/+4.4%",
          "기타금융/한진칼/-2.5%",
          "운수장비/한화오션/-2.11%",
          "서비스업/카카오/-0.74%",
          "화학/금양/-0.31%",
          "의약품/SK바이오사이언스/-0.67%",
          "운수장비/삼성중공업/-0.39%",
          "유통업/삼성물산/+0.47%",
          "기타금융/우리금융지주/-1.03%",
          "운수창고업/현대글로비스/+2.4%",
          "기계/두산에너빌리티/-0.17%",
          "전기전자/LG이노텍/+3.85%",
          "운수창고업/대한항공/-0.23%",
          "기타금융/CJ",
          "음식료품/CJ제일제당",
          "보험/DB손해보험",
          "기타금융/GS",
          "기타금융/HD한국조선해양",
          "기타금융/HD현대",
          "서비스업/HD현대마린솔루션",
          "전기전자/HD현대일렉트릭",
          "운수장비/HD현대중공업",
          "운수창고업/HMM",
          "기타금융/KB금융",
          "통신업/KT",
          "기타제조업/KT&G",
          "기타금융/LG",
          "전기전자/LG디스플레이",
          "화학/LG생활건강",
          "전기전자/LG에너지솔루션",
          "통신업/LG유플러스",
          "전기전자/LG이노텍",
          "전기전자/LG전자",
          "화학/LG화학",
          "기타금융/LS",
          "전기전자/LS ELECTRIC",
          "서비스업/NAVER",
          "증권/NH투자증권",
          "철강금속/POSCO홀딩스",
          "화학/S-Oil",
          "기타금융/SK",
          "화학/SKC",
          "의약품/SK바이오사이언스",
          "서비스업/SK바이오팜",
          "기타금융/SK스퀘어",
          "전기전자/SK아이이테크놀로지",
          "화학/SK이노베이션",
          "통신업/SK텔레콤",
          "전기전자/SK하이닉스",
          "철강금속/고려아연",
          "화학/금양",
          "화학/금호석유",
          "운수장비/기아",
          "은행/기업은행",
          "서비스업/넷마블",
          "운수창고업/대한항공",
          "기계/두산로보틱스",
          "기계/두산밥캣",
          "기계/두산에너빌리티",
          "화학/롯데케미칼",
          "기타금융/맥쿼리인프라",
          "기타금융/메리츠금융지주",
          "증권/미래에셋증권",
          "서비스업/삼성E&A",
          "전기전자/삼성SDI",
          "유통업/삼성물산",
          "의약품/삼성바이오로직스",
          "보험/삼성생명",
          "서비스업/삼성에스디에스",
          "전기전자/삼성전기",
          "전기전자/삼성전자",
          "전기전자/삼성전자우",
          "운수장비/삼성중공업",
          "기타금융/삼성카드",
          "보험/삼성화재",
          "의약품/셀트리온",
          "기타금융/신한지주",
          "화학/아모레퍼시픽",
          "전기전자/에코프로머티",
          "서비스업/엔씨소프트",
          "전기전자/엘앤에프",
          "기타금융/우리금융지주",
          "의약품/유한양행",
          "서비스업/카카오",
          "은행/카카오뱅크",
          "기타금융/카카오페이",
          "화학/코스모신소재",
          "서비스업/코웨이",
          "서비스업/크래프톤",
          "서비스업/포스코DX",
          "유통업/포스코인터내셔널",
          "전기전자/포스코퓨처엠",
          "기타금융/하나금융지주",
          "서비스업/하이브",
          "기타금융/한국금융지주",
          "전기가스업/한국전력",
          "화학/한국타이어앤테크놀로지",
          "운수장비/한국항공우주",
          "기계/한미반도체",
          "의약품/한미약품",
          "기타금융/한진칼",
          "화학/한화솔루션",
          "운수장비/한화에어로스페이스",
          "운수장비/한화오션",
          "건설업/현대건설",
          "운수창고업/현대글로비스",
          "운수장비/현대로템",
          "운수장비/현대모비스",
          "서비스업/현대오토에버",
          "철강금속/현대제철",
          "운수장비/현대차",
          "운수장비/현대차2우B",
          "운수장비/현대차우",
          "건설업",
          "기계",
          "기타금융",
          "기타제조업",
          "보험",
          "서비스업",
          "운수장비",
          "운수창고업",
          "유통업",
          "은행",
          "음식료품",
          "의약품",
          "전기가스업",
          "전기전자",
          "증권",
          "철강금속",
          "통신업",
          "화학"
         ],
         "labels": [
          "-4.7%",
          "-0.29%",
          "+1.48%",
          "+0.9%",
          "-0.96%",
          "+0.8%",
          "+2.25%",
          "+2.09%",
          "-0.54%",
          "+4.09%",
          "+1.07%",
          "-0.84%",
          "+0.98%",
          "+0.72%",
          "-0.91%",
          "-0.36%",
          "-3.46%",
          "-1.1%",
          "-1.84%",
          "-1.21%",
          "+0.36%",
          "-1.79%",
          "+0.6%",
          "+1.13%",
          "-0.19%",
          "+0.71%",
          "+0.86%",
          "-2.45%",
          "-0.52%",
          "-0.13%",
          "-0.8%",
          "+5.19%",
          "-0.25%",
          "+1.04%",
          "-0.23%",
          "+0.38%",
          "-0.88%",
          "+0.63%",
          "-1.24%",
          "+1.05%",
          "+5.36%",
          "+3.59%",
          "-5.0%",
          "+1.58%",
          "-0.62%",
          "+0.62%",
          "-1.56%",
          "+0.3%",
          "+0.14%",
          "-0.44%",
          "+1.0%",
          "+1.05%",
          "-0.2%",
          "-0.11%",
          "+6.26%",
          "+0.57%",
          "+1.5%",
          "+1.6%",
          "-0.77%",
          "-1.15%",
          "-0.29%",
          "+0.33%",
          "-3.38%",
          "+0.1%",
          "+0.99%",
          "+0.12%",
          "+0.37%",
          "+0.05%",
          "-2.96%",
          "+0.05%",
          "+0.61%",
          "+0.82%",
          "+0.0%",
          "-0.63%",
          "+1.43%",
          "+4.76%",
          "-0.59%",
          "-0.24%",
          "-0.35%",
          "-0.27%",
          "-2.03%",
          "-0.99%",
          "-1.27%",
          "+2.94%",
          "+0.35%",
          "+1.27%",
          "-1.18%",
          "+4.4%",
          "-2.5%",
          "-2.11%",
          "-0.74%",
          "-0.31%",
          "-0.67%",
          "-0.39%",
          "+0.47%",
          "-1.03%",
          "+2.4%",
          "-0.17%",
          "+3.85%",
          "-0.23%",
          "CJ",
          "CJ제일제당",
          "DB손해보험",
          "GS",
          "HD한국조선해양",
          "HD현대",
          "HD현대마린솔루션",
          "HD현대일렉트릭",
          "HD현대중공업",
          "HMM",
          "KB금융",
          "KT",
          "KT&G",
          "LG",
          "LG디스플레이",
          "LG생활건강",
          "LG에너지솔루션",
          "LG유플러스",
          "LG이노텍",
          "LG전자",
          "LG화학",
          "LS",
          "LS ELECTRIC",
          "NAVER",
          "NH투자증권",
          "POSCO홀딩스",
          "S-Oil",
          "SK",
          "SKC",
          "SK바이오사이언스",
          "SK바이오팜",
          "SK스퀘어",
          "SK아이이테크놀로지",
          "SK이노베이션",
          "SK텔레콤",
          "SK하이닉스",
          "고려아연",
          "금양",
          "금호석유",
          "기아",
          "기업은행",
          "넷마블",
          "대한항공",
          "두산로보틱스",
          "두산밥캣",
          "두산에너빌리티",
          "롯데케미칼",
          "맥쿼리인프라",
          "메리츠금융지주",
          "미래에셋증권",
          "삼성E&A",
          "삼성SDI",
          "삼성물산",
          "삼성바이오로직스",
          "삼성생명",
          "삼성에스디에스",
          "삼성전기",
          "삼성전자",
          "삼성전자우",
          "삼성중공업",
          "삼성카드",
          "삼성화재",
          "셀트리온",
          "신한지주",
          "아모레퍼시픽",
          "에코프로머티",
          "엔씨소프트",
          "엘앤에프",
          "우리금융지주",
          "유한양행",
          "카카오",
          "카카오뱅크",
          "카카오페이",
          "코스모신소재",
          "코웨이",
          "크래프톤",
          "포스코DX",
          "포스코인터내셔널",
          "포스코퓨처엠",
          "하나금융지주",
          "하이브",
          "한국금융지주",
          "한국전력",
          "한국타이어앤테크놀로지",
          "한국항공우주",
          "한미반도체",
          "한미약품",
          "한진칼",
          "한화솔루션",
          "한화에어로스페이스",
          "한화오션",
          "현대건설",
          "현대글로비스",
          "현대로템",
          "현대모비스",
          "현대오토에버",
          "현대제철",
          "현대차",
          "현대차2우B",
          "현대차우",
          "건설업",
          "기계",
          "기타금융",
          "기타제조업",
          "보험",
          "서비스업",
          "운수장비",
          "운수창고업",
          "유통업",
          "은행",
          "음식료품",
          "의약품",
          "전기가스업",
          "전기전자",
          "증권",
          "철강금속",
          "통신업",
          "화학"
         ],
         "marker": {
          "colors": [
           "#636efa",
           "#636efa",
           "#EF553B",
           "#636efa",
           "#EF553B",
           "#00cc96",
           "#ab63fa",
           "#FFA15A",
           "#19d3f3",
           "#FF6692",
           "#B6E880",
           "#ab63fa",
           "#FF97FF",
           "#19d3f3",
           "#FECB52",
           "#FF6692",
           "#636efa",
           "#ab63fa",
           "#EF553B",
           "#FF6692",
           "#EF553B",
           "#19d3f3",
           "#FFA15A",
           "#FF6692",
           "#19d3f3",
           "#ab63fa",
           "#636efa",
           "#636efa",
           "#636efa",
           "#19d3f3",
           "#636efa",
           "#FF6692",
           "#636efa",
           "#FF6692",
           "#636efa",
           "#FFA15A",
           "#EF553B",
           "#FECB52",
           "#EF553B",
           "#19d3f3",
           "#00cc96",
           "#EF553B",
           "#ab63fa",
           "#FECB52",
           "#636efa",
           "#636efa",
           "#19d3f3",
           "#00cc96",
           "#636efa",
           "#FFA15A",
           "#636efa",
           "#ab63fa",
           "#19d3f3",
           "#00cc96",
           "#EF553B",
           "#19d3f3",
           "#B6E880",
           "#19d3f3",
           "#19d3f3",
           "#FF6692",
           "#FF6692",
           "#636efa",
           "#EF553B",
           "#19d3f3",
           "#EF553B",
           "#FF6692",
           "#ab63fa",
           "#00cc96",
           "#B6E880",
           "#EF553B",
           "#ab63fa",
           "#19d3f3",
           "#00cc96",
           "#FF6692",
           "#636efa",
           "#EF553B",
           "#636efa",
           "#EF553B",
           "#ab63fa",
           "#B6E880",
           "#ab63fa",
           "#00cc96",
           "#FF6692",
           "#FF6692",
           "#19d3f3",
           "#19d3f3",
           "#EF553B",
           "#FF6692",
           "#636efa",
           "#ab63fa",
           "#EF553B",
           "#FF6692",
           "#00cc96",
           "#ab63fa",
           "#FF97FF",
           "#636efa",
           "#B6E880",
           "#B6E880",
           "#19d3f3",
           "#B6E880",
           "#636efa",
           "#ab63fa",
           "#00cc96",
           "#636efa",
           "#636efa",
           "#636efa",
           "#EF553B",
           "#19d3f3",
           "#ab63fa",
           "#B6E880",
           "#636efa",
           "#FFA15A",
           "#FFA15A",
           "#636efa",
           "#19d3f3",
           "#FF6692",
           "#19d3f3",
           "#FFA15A",
           "#19d3f3",
           "#19d3f3",
           "#FF6692",
           "#636efa",
           "#19d3f3",
           "#EF553B",
           "#EF553B",
           "#FECB52",
           "#FF6692",
           "#636efa",
           "#FF6692",
           "#00cc96",
           "#EF553B",
           "#636efa",
           "#19d3f3",
           "#FF6692",
           "#FFA15A",
           "#19d3f3",
           "#FECB52",
           "#FF6692",
           "#FF6692",
           "#ab63fa",
           "#FF6692",
           "#EF553B",
           "#B6E880",
           "#B6E880",
           "#B6E880",
           "#B6E880",
           "#FF6692",
           "#636efa",
           "#636efa",
           "#EF553B",
           "#EF553B",
           "#19d3f3",
           "#FF97FF",
           "#00cc96",
           "#00cc96",
           "#EF553B",
           "#19d3f3",
           "#19d3f3",
           "#19d3f3",
           "#ab63fa",
           "#636efa",
           "#00cc96",
           "#00cc96",
           "#636efa",
           "#FF6692",
           "#19d3f3",
           "#EF553B",
           "#19d3f3",
           "#636efa",
           "#00cc96",
           "#EF553B",
           "#FF6692",
           "#636efa",
           "#FF6692",
           "#EF553B",
           "#EF553B",
           "#EF553B",
           "#FF97FF",
           "#19d3f3",
           "#636efa",
           "#EF553B",
           "#636efa",
           "#19d3f3",
           "#FF6692",
           "#ab63fa",
           "#B6E880",
           "#00cc96",
           "#636efa",
           "#FF6692",
           "#ab63fa",
           "#ab63fa",
           "#636efa",
           "#B6E880",
           "#ab63fa",
           "#ab63fa",
           "#EF553B",
           "#FECB52",
           "#ab63fa",
           "#ab63fa",
           "#ab63fa",
           "#636efa",
           "#B6E880",
           "#636efa",
           "#FFA15A",
           "#00cc96",
           "#EF553B",
           "#ab63fa",
           "#B6E880",
           "#FF97FF",
           "#FF6692",
           "#ab63fa",
           "#00cc96",
           "#19d3f3",
           "#19d3f3",
           "#EF553B",
           "#FECB52",
           "#FFA15A",
           "#FF6692"
          ]
         },
         "name": "",
         "parents": [
          "기타금융/SK스퀘어",
          "기타금융/HD한국조선해양",
          "서비스업/현대오토에버",
          "기타금융/GS",
          "서비스업/크래프톤",
          "의약품/한미약품",
          "운수장비/현대로템",
          "통신업/KT",
          "전기전자/포스코퓨처엠",
          "화학/금호석유",
          "기계/두산밥캣",
          "운수장비/HD현대중공업",
          "유통업/포스코인터내셔널",
          "전기전자/LG전자",
          "철강금속/고려아연",
          "화학/SK이노베이션",
          "기타금융/하나금융지주",
          "운수장비/현대모비스",
          "서비스업/코웨이",
          "화학/LG생활건강",
          "서비스업/하이브",
          "전기전자/엘앤에프",
          "통신업/LG유플러스",
          "화학/코스모신소재",
          "전기전자/HD현대일렉트릭",
          "운수장비/현대차2우B",
          "건설업/현대건설",
          "기타금융/KB금융",
          "기타금융/신한지주",
          "전기전자/삼성전자",
          "기타금융/CJ",
          "화학/롯데케미칼",
          "기타금융/삼성카드",
          "화학/한화솔루션",
          "기타금융/맥쿼리인프라",
          "통신업/SK텔레콤",
          "증권/미래에셋증권",
          "철강금속/POSCO홀딩스",
          "서비스업/SK바이오팜",
          "전기전자/LG에너지솔루션",
          "보험/DB손해보험",
          "서비스업/삼성에스디에스",
          "음식료품/CJ제일제당",
          "철강금속/현대제철",
          "기타금융/LG",
          "기타금융/SK",
          "전기전자/LS ELECTRIC",
          "보험/삼성화재",
          "기타금융/카카오페이",
          "기타제조업/KT&G",
          "기타금융/한국금융지주",
          "운수장비/현대차우",
          "전기전자/삼성전기",
          "보험/삼성생명",
          "서비스업/HD현대마린솔루션",
          "전기전자/LG디스플레이",
          "기계/한미반도체",
          "전기가스업/한국전력",
          "전기전자/삼성전자우",
          "은행/기업은행",
          "화학/S-Oil",
          "기타금융/LS",
          "서비스업/넷마블",
          "전기전자/에코프로머티",
          "서비스업/포스코DX",
          "화학/아모레퍼시픽",
          "운수장비/한국항공우주",
          "의약품/셀트리온",
          "운수창고업/HMM",
          "서비스업/NAVER",
          "운수장비/현대차",
          "전기전자/SK하이닉스",
          "의약품/삼성바이오로직스",
          "은행/카카오뱅크",
          "기타금융/메리츠금융지주",
          "서비스업/엔씨소프트",
          "기타금융/HD현대",
          "증권/NH투자증권",
          "운수장비/기아",
          "기계/두산로보틱스",
          "운수장비/한화에어로스페이스",
          "의약품/유한양행",
          "화학/SKC",
          "화학/LG화학",
          "전기전자/SK아이이테크놀로지",
          "전기전자/삼성SDI",
          "서비스업/삼성E&A",
          "화학/한국타이어앤테크놀로지",
          "기타금융/한진칼",
          "운수장비/한화오션",
          "서비스업/카카오",
          "화학/금양",
          "의약품/SK바이오사이언스",
          "운수장비/삼성중공업",
          "유통업/삼성물산",
          "기타금융/우리금융지주",
          "운수창고업/현대글로비스",
          "기계/두산에너빌리티",
          "전기전자/LG이노텍",
          "운수창고업/대한항공",
          "기타금융",
          "음식료품",
          "보험",
          "기타금융",
          "기타금융",
          "기타금융",
          "서비스업",
          "전기전자",
          "운수장비",
          "운수창고업",
          "기타금융",
          "통신업",
          "기타제조업",
          "기타금융",
          "전기전자",
          "화학",
          "전기전자",
          "통신업",
          "전기전자",
          "전기전자",
          "화학",
          "기타금융",
          "전기전자",
          "서비스업",
          "증권",
          "철강금속",
          "화학",
          "기타금융",
          "화학",
          "의약품",
          "서비스업",
          "기타금융",
          "전기전자",
          "화학",
          "통신업",
          "전기전자",
          "철강금속",
          "화학",
          "화학",
          "운수장비",
          "은행",
          "서비스업",
          "운수창고업",
          "기계",
          "기계",
          "기계",
          "화학",
          "기타금융",
          "기타금융",
          "증권",
          "서비스업",
          "전기전자",
          "유통업",
          "의약품",
          "보험",
          "서비스업",
          "전기전자",
          "전기전자",
          "전기전자",
          "운수장비",
          "기타금융",
          "보험",
          "의약품",
          "기타금융",
          "화학",
          "전기전자",
          "서비스업",
          "전기전자",
          "기타금융",
          "의약품",
          "서비스업",
          "은행",
          "기타금융",
          "화학",
          "서비스업",
          "서비스업",
          "서비스업",
          "유통업",
          "전기전자",
          "기타금융",
          "서비스업",
          "기타금융",
          "전기가스업",
          "화학",
          "운수장비",
          "기계",
          "의약품",
          "기타금융",
          "화학",
          "운수장비",
          "운수장비",
          "건설업",
          "운수창고업",
          "운수장비",
          "운수장비",
          "서비스업",
          "철강금속",
          "운수장비",
          "운수장비",
          "운수장비",
          "",
          "",
          "",
          "",
          "",
          "",
          "",
          "",
          "",
          "",
          "",
          "",
          "",
          "",
          "",
          "",
          "",
          ""
         ],
         "type": "treemap",
         "values": [
          10645246840000,
          9618066464400,
          4127309291000,
          4171900472200,
          12429674701000,
          4054678651500,
          4207435395150,
          9399380201750,
          21263653890000,
          4087254688300,
          5674102795600,
          12632414406800,
          8180409642000,
          16086580116200,
          10234753826000,
          10569209136000,
          17950695117200,
          21025568603000,
          4339417597200,
          7028188650000,
          8059680769500,
          5578501230600,
          4370479723610,
          4636033805600,
          9246090127500,
          5546281544100,
          3908587351500,
          32119481331200,
          24196177665000,
          467433973665000,
          4356125801400,
          5026111732500,
          4576426194500,
          5027856678000,
          5556212276250,
          11340914798400,
          4691093295040,
          33955348845000,
          6852409375000,
          90207000000000,
          7370280000000,
          12504252480000,
          5005516845000,
          4276937409250,
          12662729936500,
          11916687961200,
          5115000000000,
          15941632650500,
          4793856141700,
          11689927980900,
          3934255035200,
          3681060549600,
          11323564313600,
          18600000000000,
          9134475000000,
          5325000000000,
          13802713023600,
          12640272676130,
          53076192150000,
          10972579957440,
          7835762323200,
          4855760000000,
          5406475275800,
          6705363189600,
          6225822152550,
          9885276271000,
          5312393331500,
          41424006270700,
          12409601322960,
          29948144733600,
          51621091081500,
          134898838234500,
          55586894000000,
          11303030946900,
          16287497735600,
          4829884840000,
          5347831854500,
          4159152197300,
          45792834721700,
          4718894544000,
          10986710000000,
          5606613573600,
          4135218141600,
          28413418057500,
          4085352021600,
          30153246405000,
          4939200000000,
          5586765611900,
          4165966209600,
          9956664217500,
          20772903568650,
          5555388540900,
          4563568350000,
          8914400000000,
          26667616050000,
          10723021274440,
          7053750000000,
          11318715449820,
          5739273447500,
          8064032475900,
          4356125801400,
          5005516845000,
          7370280000000,
          4171900472200,
          9618066464400,
          5347831854500,
          9134475000000,
          9246090127500,
          12632414406800,
          12409601322960,
          32119481331200,
          9399380201750,
          11689927980900,
          12662729936500,
          5325000000000,
          7028188650000,
          90207000000000,
          4370479723610,
          5739273447500,
          16086580116200,
          28413418057500,
          4855760000000,
          5115000000000,
          29948144733600,
          4159152197300,
          33955348845000,
          7835762323200,
          11916687961200,
          4135218141600,
          4563568350000,
          6852409375000,
          10645246840000,
          4085352021600,
          10569209136000,
          11340914798400,
          134898838234500,
          10234753826000,
          5555388540900,
          4087254688300,
          45792834721700,
          10972579957440,
          5406475275800,
          8064032475900,
          4718894544000,
          5674102795600,
          11318715449820,
          5026111732500,
          5556212276250,
          16287497735600,
          4691093295040,
          4939200000000,
          30153246405000,
          26667616050000,
          55586894000000,
          18600000000000,
          12504252480000,
          11323564313600,
          467433973665000,
          53076192150000,
          8914400000000,
          4576426194500,
          15941632650500,
          41424006270700,
          24196177665000,
          9885276271000,
          6705363189600,
          4829884840000,
          5578501230600,
          10723021274440,
          5606613573600,
          20772903568650,
          11303030946900,
          4793856141700,
          4636033805600,
          4339417597200,
          12429674701000,
          6225822152550,
          8180409642000,
          21263653890000,
          17950695117200,
          8059680769500,
          3934255035200,
          12640272676130,
          5586765611900,
          5312393331500,
          13802713023600,
          4054678651500,
          4165966209600,
          5027856678000,
          10986710000000,
          9956664217500,
          3908587351500,
          7053750000000,
          4207435395150,
          21025568603000,
          4127309291000,
          4276937409250,
          51621091081500,
          5546281544100,
          3681060549600,
          3908587351500,
          35514425813020,
          187877938310890,
          11689927980900,
          41911912650500,
          129569649784300,
          179676853850850,
          27527383798860,
          34848025692000,
          22275610904340,
          5005516845000,
          111235760845800,
          12640272676130,
          866237628791100,
          8850245492340,
          48467040080250,
          25110774723760,
          97786483636500
         ]
        }
       ],
       "layout": {
        "legend": {
         "tracegroupgap": 0
        },
        "template": {
         "data": {
          "bar": [
           {
            "error_x": {
             "color": "#2a3f5f"
            },
            "error_y": {
             "color": "#2a3f5f"
            },
            "marker": {
             "line": {
              "color": "white",
              "width": 0.5
             },
             "pattern": {
              "fillmode": "overlay",
              "size": 10,
              "solidity": 0.2
             }
            },
            "type": "bar"
           }
          ],
          "barpolar": [
           {
            "marker": {
             "line": {
              "color": "white",
              "width": 0.5
             },
             "pattern": {
              "fillmode": "overlay",
              "size": 10,
              "solidity": 0.2
             }
            },
            "type": "barpolar"
           }
          ],
          "carpet": [
           {
            "aaxis": {
             "endlinecolor": "#2a3f5f",
             "gridcolor": "#C8D4E3",
             "linecolor": "#C8D4E3",
             "minorgridcolor": "#C8D4E3",
             "startlinecolor": "#2a3f5f"
            },
            "baxis": {
             "endlinecolor": "#2a3f5f",
             "gridcolor": "#C8D4E3",
             "linecolor": "#C8D4E3",
             "minorgridcolor": "#C8D4E3",
             "startlinecolor": "#2a3f5f"
            },
            "type": "carpet"
           }
          ],
          "choropleth": [
           {
            "colorbar": {
             "outlinewidth": 0,
             "ticks": ""
            },
            "type": "choropleth"
           }
          ],
          "contour": [
           {
            "colorbar": {
             "outlinewidth": 0,
             "ticks": ""
            },
            "colorscale": [
             [
              0,
              "#0d0887"
             ],
             [
              0.1111111111111111,
              "#46039f"
             ],
             [
              0.2222222222222222,
              "#7201a8"
             ],
             [
              0.3333333333333333,
              "#9c179e"
             ],
             [
              0.4444444444444444,
              "#bd3786"
             ],
             [
              0.5555555555555556,
              "#d8576b"
             ],
             [
              0.6666666666666666,
              "#ed7953"
             ],
             [
              0.7777777777777778,
              "#fb9f3a"
             ],
             [
              0.8888888888888888,
              "#fdca26"
             ],
             [
              1,
              "#f0f921"
             ]
            ],
            "type": "contour"
           }
          ],
          "contourcarpet": [
           {
            "colorbar": {
             "outlinewidth": 0,
             "ticks": ""
            },
            "type": "contourcarpet"
           }
          ],
          "heatmap": [
           {
            "colorbar": {
             "outlinewidth": 0,
             "ticks": ""
            },
            "colorscale": [
             [
              0,
              "#0d0887"
             ],
             [
              0.1111111111111111,
              "#46039f"
             ],
             [
              0.2222222222222222,
              "#7201a8"
             ],
             [
              0.3333333333333333,
              "#9c179e"
             ],
             [
              0.4444444444444444,
              "#bd3786"
             ],
             [
              0.5555555555555556,
              "#d8576b"
             ],
             [
              0.6666666666666666,
              "#ed7953"
             ],
             [
              0.7777777777777778,
              "#fb9f3a"
             ],
             [
              0.8888888888888888,
              "#fdca26"
             ],
             [
              1,
              "#f0f921"
             ]
            ],
            "type": "heatmap"
           }
          ],
          "heatmapgl": [
           {
            "colorbar": {
             "outlinewidth": 0,
             "ticks": ""
            },
            "colorscale": [
             [
              0,
              "#0d0887"
             ],
             [
              0.1111111111111111,
              "#46039f"
             ],
             [
              0.2222222222222222,
              "#7201a8"
             ],
             [
              0.3333333333333333,
              "#9c179e"
             ],
             [
              0.4444444444444444,
              "#bd3786"
             ],
             [
              0.5555555555555556,
              "#d8576b"
             ],
             [
              0.6666666666666666,
              "#ed7953"
             ],
             [
              0.7777777777777778,
              "#fb9f3a"
             ],
             [
              0.8888888888888888,
              "#fdca26"
             ],
             [
              1,
              "#f0f921"
             ]
            ],
            "type": "heatmapgl"
           }
          ],
          "histogram": [
           {
            "marker": {
             "pattern": {
              "fillmode": "overlay",
              "size": 10,
              "solidity": 0.2
             }
            },
            "type": "histogram"
           }
          ],
          "histogram2d": [
           {
            "colorbar": {
             "outlinewidth": 0,
             "ticks": ""
            },
            "colorscale": [
             [
              0,
              "#0d0887"
             ],
             [
              0.1111111111111111,
              "#46039f"
             ],
             [
              0.2222222222222222,
              "#7201a8"
             ],
             [
              0.3333333333333333,
              "#9c179e"
             ],
             [
              0.4444444444444444,
              "#bd3786"
             ],
             [
              0.5555555555555556,
              "#d8576b"
             ],
             [
              0.6666666666666666,
              "#ed7953"
             ],
             [
              0.7777777777777778,
              "#fb9f3a"
             ],
             [
              0.8888888888888888,
              "#fdca26"
             ],
             [
              1,
              "#f0f921"
             ]
            ],
            "type": "histogram2d"
           }
          ],
          "histogram2dcontour": [
           {
            "colorbar": {
             "outlinewidth": 0,
             "ticks": ""
            },
            "colorscale": [
             [
              0,
              "#0d0887"
             ],
             [
              0.1111111111111111,
              "#46039f"
             ],
             [
              0.2222222222222222,
              "#7201a8"
             ],
             [
              0.3333333333333333,
              "#9c179e"
             ],
             [
              0.4444444444444444,
              "#bd3786"
             ],
             [
              0.5555555555555556,
              "#d8576b"
             ],
             [
              0.6666666666666666,
              "#ed7953"
             ],
             [
              0.7777777777777778,
              "#fb9f3a"
             ],
             [
              0.8888888888888888,
              "#fdca26"
             ],
             [
              1,
              "#f0f921"
             ]
            ],
            "type": "histogram2dcontour"
           }
          ],
          "mesh3d": [
           {
            "colorbar": {
             "outlinewidth": 0,
             "ticks": ""
            },
            "type": "mesh3d"
           }
          ],
          "parcoords": [
           {
            "line": {
             "colorbar": {
              "outlinewidth": 0,
              "ticks": ""
             }
            },
            "type": "parcoords"
           }
          ],
          "pie": [
           {
            "automargin": true,
            "type": "pie"
           }
          ],
          "scatter": [
           {
            "fillpattern": {
             "fillmode": "overlay",
             "size": 10,
             "solidity": 0.2
            },
            "type": "scatter"
           }
          ],
          "scatter3d": [
           {
            "line": {
             "colorbar": {
              "outlinewidth": 0,
              "ticks": ""
             }
            },
            "marker": {
             "colorbar": {
              "outlinewidth": 0,
              "ticks": ""
             }
            },
            "type": "scatter3d"
           }
          ],
          "scattercarpet": [
           {
            "marker": {
             "colorbar": {
              "outlinewidth": 0,
              "ticks": ""
             }
            },
            "type": "scattercarpet"
           }
          ],
          "scattergeo": [
           {
            "marker": {
             "colorbar": {
              "outlinewidth": 0,
              "ticks": ""
             }
            },
            "type": "scattergeo"
           }
          ],
          "scattergl": [
           {
            "marker": {
             "colorbar": {
              "outlinewidth": 0,
              "ticks": ""
             }
            },
            "type": "scattergl"
           }
          ],
          "scattermapbox": [
           {
            "marker": {
             "colorbar": {
              "outlinewidth": 0,
              "ticks": ""
             }
            },
            "type": "scattermapbox"
           }
          ],
          "scatterpolar": [
           {
            "marker": {
             "colorbar": {
              "outlinewidth": 0,
              "ticks": ""
             }
            },
            "type": "scatterpolar"
           }
          ],
          "scatterpolargl": [
           {
            "marker": {
             "colorbar": {
              "outlinewidth": 0,
              "ticks": ""
             }
            },
            "type": "scatterpolargl"
           }
          ],
          "scatterternary": [
           {
            "marker": {
             "colorbar": {
              "outlinewidth": 0,
              "ticks": ""
             }
            },
            "type": "scatterternary"
           }
          ],
          "surface": [
           {
            "colorbar": {
             "outlinewidth": 0,
             "ticks": ""
            },
            "colorscale": [
             [
              0,
              "#0d0887"
             ],
             [
              0.1111111111111111,
              "#46039f"
             ],
             [
              0.2222222222222222,
              "#7201a8"
             ],
             [
              0.3333333333333333,
              "#9c179e"
             ],
             [
              0.4444444444444444,
              "#bd3786"
             ],
             [
              0.5555555555555556,
              "#d8576b"
             ],
             [
              0.6666666666666666,
              "#ed7953"
             ],
             [
              0.7777777777777778,
              "#fb9f3a"
             ],
             [
              0.8888888888888888,
              "#fdca26"
             ],
             [
              1,
              "#f0f921"
             ]
            ],
            "type": "surface"
           }
          ],
          "table": [
           {
            "cells": {
             "fill": {
              "color": "#EBF0F8"
             },
             "line": {
              "color": "white"
             }
            },
            "header": {
             "fill": {
              "color": "#C8D4E3"
             },
             "line": {
              "color": "white"
             }
            },
            "type": "table"
           }
          ]
         },
         "layout": {
          "annotationdefaults": {
           "arrowcolor": "#2a3f5f",
           "arrowhead": 0,
           "arrowwidth": 1
          },
          "autotypenumbers": "strict",
          "coloraxis": {
           "colorbar": {
            "outlinewidth": 0,
            "ticks": ""
           }
          },
          "colorscale": {
           "diverging": [
            [
             0,
             "#8e0152"
            ],
            [
             0.1,
             "#c51b7d"
            ],
            [
             0.2,
             "#de77ae"
            ],
            [
             0.3,
             "#f1b6da"
            ],
            [
             0.4,
             "#fde0ef"
            ],
            [
             0.5,
             "#f7f7f7"
            ],
            [
             0.6,
             "#e6f5d0"
            ],
            [
             0.7,
             "#b8e186"
            ],
            [
             0.8,
             "#7fbc41"
            ],
            [
             0.9,
             "#4d9221"
            ],
            [
             1,
             "#276419"
            ]
           ],
           "sequential": [
            [
             0,
             "#0d0887"
            ],
            [
             0.1111111111111111,
             "#46039f"
            ],
            [
             0.2222222222222222,
             "#7201a8"
            ],
            [
             0.3333333333333333,
             "#9c179e"
            ],
            [
             0.4444444444444444,
             "#bd3786"
            ],
            [
             0.5555555555555556,
             "#d8576b"
            ],
            [
             0.6666666666666666,
             "#ed7953"
            ],
            [
             0.7777777777777778,
             "#fb9f3a"
            ],
            [
             0.8888888888888888,
             "#fdca26"
            ],
            [
             1,
             "#f0f921"
            ]
           ],
           "sequentialminus": [
            [
             0,
             "#0d0887"
            ],
            [
             0.1111111111111111,
             "#46039f"
            ],
            [
             0.2222222222222222,
             "#7201a8"
            ],
            [
             0.3333333333333333,
             "#9c179e"
            ],
            [
             0.4444444444444444,
             "#bd3786"
            ],
            [
             0.5555555555555556,
             "#d8576b"
            ],
            [
             0.6666666666666666,
             "#ed7953"
            ],
            [
             0.7777777777777778,
             "#fb9f3a"
            ],
            [
             0.8888888888888888,
             "#fdca26"
            ],
            [
             1,
             "#f0f921"
            ]
           ]
          },
          "colorway": [
           "#636efa",
           "#EF553B",
           "#00cc96",
           "#ab63fa",
           "#FFA15A",
           "#19d3f3",
           "#FF6692",
           "#B6E880",
           "#FF97FF",
           "#FECB52"
          ],
          "font": {
           "color": "#2a3f5f"
          },
          "geo": {
           "bgcolor": "white",
           "lakecolor": "white",
           "landcolor": "white",
           "showlakes": true,
           "showland": true,
           "subunitcolor": "#C8D4E3"
          },
          "hoverlabel": {
           "align": "left"
          },
          "hovermode": "closest",
          "mapbox": {
           "style": "light"
          },
          "paper_bgcolor": "white",
          "plot_bgcolor": "white",
          "polar": {
           "angularaxis": {
            "gridcolor": "#EBF0F8",
            "linecolor": "#EBF0F8",
            "ticks": ""
           },
           "bgcolor": "white",
           "radialaxis": {
            "gridcolor": "#EBF0F8",
            "linecolor": "#EBF0F8",
            "ticks": ""
           }
          },
          "scene": {
           "xaxis": {
            "backgroundcolor": "white",
            "gridcolor": "#DFE8F3",
            "gridwidth": 2,
            "linecolor": "#EBF0F8",
            "showbackground": true,
            "ticks": "",
            "zerolinecolor": "#EBF0F8"
           },
           "yaxis": {
            "backgroundcolor": "white",
            "gridcolor": "#DFE8F3",
            "gridwidth": 2,
            "linecolor": "#EBF0F8",
            "showbackground": true,
            "ticks": "",
            "zerolinecolor": "#EBF0F8"
           },
           "zaxis": {
            "backgroundcolor": "white",
            "gridcolor": "#DFE8F3",
            "gridwidth": 2,
            "linecolor": "#EBF0F8",
            "showbackground": true,
            "ticks": "",
            "zerolinecolor": "#EBF0F8"
           }
          },
          "shapedefaults": {
           "line": {
            "color": "#2a3f5f"
           }
          },
          "ternary": {
           "aaxis": {
            "gridcolor": "#DFE8F3",
            "linecolor": "#A2B1C6",
            "ticks": ""
           },
           "baxis": {
            "gridcolor": "#DFE8F3",
            "linecolor": "#A2B1C6",
            "ticks": ""
           },
           "bgcolor": "white",
           "caxis": {
            "gridcolor": "#DFE8F3",
            "linecolor": "#A2B1C6",
            "ticks": ""
           }
          },
          "title": {
           "x": 0.05
          },
          "xaxis": {
           "automargin": true,
           "gridcolor": "#EBF0F8",
           "linecolor": "#EBF0F8",
           "ticks": "",
           "title": {
            "standoff": 15
           },
           "zerolinecolor": "#EBF0F8",
           "zerolinewidth": 2
          },
          "yaxis": {
           "automargin": true,
           "gridcolor": "#EBF0F8",
           "linecolor": "#EBF0F8",
           "ticks": "",
           "title": {
            "standoff": 15
           },
           "zerolinecolor": "#EBF0F8",
           "zerolinewidth": 2
          }
         }
        },
        "title": {
         "text": "코스피 시장 주식 시각화"
        }
       }
      }
     },
     "metadata": {},
     "output_type": "display_data"
    }
   ],
   "source": [
    "### KOSPI 100개기업 시총순위별로 사각형크기 나누고 주가와 당일 등락률표시\n",
    "\n",
    "import FinanceDataReader as fdr\n",
    "import pandas as pd\n",
    "import numpy as np\n",
    "\n",
    "# 크롤링\n",
    "kospi100 = fdr.StockListing('KOSPI')\n",
    "\n",
    "# 시가총액으로 정렬하고 상위 100개 선택\n",
    "kospi100 = kospi100.sort_values(by='Marcap', ascending=False).head(100)\n",
    "\n",
    "# 섹터 열 추가, 업종명만 엑셀파일 참고라 코스피에 대규모상장만 안하면 교체필요 없음\n",
    "sector_df = pd.read_excel(\"/Users/hw/서강대학부자료/Quantifi/Trading AI/Crawling-and-Visualization-of-Macroeconomic-Indicators/20240514_업종분류표.xlsx\")\n",
    "\n",
    "sector_df.rename(columns={'종목코드':'Code'}, inplace=True)\n",
    "kospi100_df = pd.merge(kospi100, sector_df, on='Code')\n",
    "kospi100_df = pd.concat([kospi100_df.iloc[:,1:17], kospi100_df.iloc[:,19:20]],axis=1)\n",
    "kospi100_df.rename(columns={'업종명':'Sector'}, inplace=True)\n",
    "\n",
    "# 시가총액을 숫자형으로 변환\n",
    "kospi100_df['Marcap'] = kospi100_df['Marcap'].astype(float)\n",
    "\n",
    "# 함수 정의: 음수는 그대로, 양수는 +와 % 추가\n",
    "kospi100_df['ChagesRatio'] = np.where(kospi100_df['ChagesRatio']<0,\n",
    "                                kospi100_df['ChagesRatio'].astype(str) + \"%\",\n",
    "                                \"+\" + kospi100_df['ChagesRatio'].astype(str) + \"%\")\n",
    "\n",
    "# 섹터별로 데이터를 그룹화\n",
    "grouped = kospi100_df.groupby('Sector').sum()\n",
    "\n",
    "## 시총순 섹터별 사각형크기로 시각화\n",
    "import plotly.express as px\n",
    "\n",
    "fig = px.treemap(kospi100_df, path=['Sector', 'Name', 'ChagesRatio'], values='Marcap',\n",
    "                 color='Sector', hover_data=['Marcap'],\n",
    "                 color_continuous_scale='Viridis', title=\"코스피 시장 주식 시각화\")\n",
    "fig.show()\n"
   ]
  }
 ],
 "metadata": {
  "kernelspec": {
   "display_name": "base",
   "language": "python",
   "name": "python3"
  },
  "language_info": {
   "codemirror_mode": {
    "name": "ipython",
    "version": 3
   },
   "file_extension": ".py",
   "mimetype": "text/x-python",
   "name": "python",
   "nbconvert_exporter": "python",
   "pygments_lexer": "ipython3",
   "version": "3.11.5"
  }
 },
 "nbformat": 4,
 "nbformat_minor": 2
}
